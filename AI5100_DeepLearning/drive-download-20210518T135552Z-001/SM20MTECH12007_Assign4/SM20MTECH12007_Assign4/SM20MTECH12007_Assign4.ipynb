{
  "nbformat": 4,
  "nbformat_minor": 0,
  "metadata": {
    "colab": {
      "name": "Assingment_4 (2).ipynb",
      "provenance": [],
      "collapsed_sections": [],
      "toc_visible": true
    },
    "kernelspec": {
      "display_name": "Python 3",
      "language": "python",
      "name": "python3"
    },
    "language_info": {
      "codemirror_mode": {
        "name": "ipython",
        "version": 3
      },
      "file_extension": ".py",
      "mimetype": "text/x-python",
      "name": "python",
      "nbconvert_exporter": "python",
      "pygments_lexer": "ipython3",
      "version": "3.8.5"
    }
  },
  "cells": [
    {
      "cell_type": "markdown",
      "metadata": {
        "id": "3z9l7S6RV8-2"
      },
      "source": [
        "#### **Welcome to Assignment 4 (part-1) on Deep Learning for Computer Vision.**\n",
        "In this assignment you will get a chance to implement LSTM cell from Scratch and Usage of Recurrent Neural Network for 1D time series Prediction task .\n",
        "\n",
        "#### **Instructions**\n",
        "1. Use Python 3.x to run this notebook\n",
        "3. Write your code only in between the lines 'YOUR CODE STARTS HERE' and 'YOUR CODE ENDS HERE'.\n",
        "you should not change anything else code cells, if you do, the answers you are supposed to get at the end of this assignment might be wrong.\n",
        "4. Read documentation of each function carefully."
      ]
    },
    {
      "cell_type": "markdown",
      "metadata": {
        "id": "GT8skzfOLu91"
      },
      "source": [
        "## Question 1:\n",
        "\n",
        "Given a sequence of values of a 1D input time series from time t = 1 to t = 5, predict the value of the time series at t = 6 using RNN.\n",
        "\n",
        "Here we trained an RNN in such a way that, given values of input time series from t = 1 to t=i ; it will predict the value at t= i+1.\n",
        "\n",
        "Hint : Design an RNN using pytorch's nn.RNN to create an RNN layer , then add a fully-connected layer to get the required output size.\n",
        "\n",
        "Choose 32 as the number of features in the RNN output and in the hidden state. Also, choose number of layers to be 1 to make up the RNN, typically such number varies depending on different tasks. The value greater than 1 means that you'll create a stacked RNN. Also, use \"batch_first =True\". Here, \"batch_first\" implies whether or not the input/output of the RNN will have the batch_size as the first dimension (batch_size, seq_length, hidden_dim). \n"
      ]
    },
    {
      "cell_type": "code",
      "metadata": {
        "colab": {
          "base_uri": "https://localhost:8080/"
        },
        "id": "qoVHp8ZWqYpd",
        "outputId": "4e0667ab-7c6e-431d-fa92-a054051c9650"
      },
      "source": [
        "import torch\n",
        "from torch import nn\n",
        "import numpy as np\n",
        "import matplotlib.pyplot as plt\n",
        "import numpy as np\n",
        "%matplotlib inline\n",
        "\n",
        "\n",
        "## Fixing the seed for Reproducibility\n",
        "np.random.seed(1)\n",
        "torch.manual_seed(1)\n",
        "\n",
        "## Define 1D input time series, which spans from t= 1 to t=6.\n",
        "input_series = np.random.randn(6,1)\n",
        "\n",
        "\n",
        "class RNN(nn.Module):\n",
        "    def __init__(self, input_size, output_size, hidden_dim, n_layers):\n",
        "        super(RNN, self).__init__()\n",
        "\n",
        "        ### YOUR CODE STARTS HERE\n",
        "        self.input_size = input_size\n",
        "        self.output_size = output_size\n",
        "        self.hidden_dim = hidden_dim\n",
        "        self.n_layers = n_layers\n",
        "        self.rnn = nn.RNN(input_size = self.input_size , hidden_size =self.hidden_dim , num_layers = self.n_layers,batch_first =True )\n",
        "        self.fc = nn.Linear(self.hidden_dim,self.output_size)\n",
        "\n",
        "    def forward(self, x, hidden):\n",
        "        if hidden == None:\n",
        "            hidden = torch.zeros(self.n_layers, x.size(0), self.hidden_dim)\n",
        "            \n",
        "        output, hidden = self.rnn(x, hidden)\n",
        "\n",
        "        output = output.view(-1,self.hidden_dim)\n",
        "\n",
        "        output = self.fc(output)\n",
        "\n",
        "        return output,hidden\n",
        "        ### YOUR CODE ENDS HERE\n",
        "\n",
        "# decide on hyperparameters\n",
        "input_size=1    ## 1D input\n",
        "output_size=1   ## 1D output\n",
        "hidden_dim=32  ## Hidden state feature dimension of RNN\n",
        "n_layers=1     ## No. of stacked layers in RNN\n",
        "\n",
        "# instantiate an RNN\n",
        "rnn = RNN(input_size, output_size, hidden_dim, n_layers)\n",
        "\n",
        "# MSE loss and Adam optimizer with a learning rate of 0.01\n",
        "criterion = nn.MSELoss()\n",
        "optimizer = torch.optim.Adam(rnn.parameters(), lr=0.01)\n",
        "\n",
        "# train the RNN\n",
        "def train(rnn, n_steps, print_every):\n",
        "    \n",
        "    # initialize the hidden state\n",
        "    hidden = None      \n",
        "    \n",
        "    for batch_i, step in enumerate(range(n_steps)):\n",
        "        # defining the training data \n",
        "        x = input_series[:-1]\n",
        "        y = input_series[1:]\n",
        "        \n",
        "        # convert data into Tensors\n",
        "        x_tensor = torch.Tensor(x).unsqueeze(0) # unsqueeze gives a 1, batch_size dimension\n",
        "        y_tensor = torch.Tensor(y)\n",
        "\n",
        "        # outputs from the rnn\n",
        "        prediction, hidden = rnn(x_tensor, hidden)\n",
        "\n",
        "        ## Representing Memory ##\n",
        "        # make a new variable for hidden and detach the hidden state from its history\n",
        "        # this way, we don't backpropagate through the entire history\n",
        "        hidden = hidden.data\n",
        "\n",
        "        # calculate the loss\n",
        "        loss = criterion(prediction, y_tensor)\n",
        "        # zero gradients\n",
        "        optimizer.zero_grad()\n",
        "        # perform backprop and update weights\n",
        "        loss.backward()\n",
        "        optimizer.step()\n",
        "\n",
        "        # display loss and predictions\n",
        "        if batch_i%print_every == 0:  \n",
        "            print (batch_i)      \n",
        "            print('Loss: ', loss.item())\n",
        "            print ('Predicted Value: ', prediction.data.numpy().flatten())\n",
        "            print ('True Value: ', y_tensor.data.numpy().flatten())\n",
        "            \n",
        "    \n",
        "    return rnn,prediction[-1]\n",
        "\n",
        "# train the rnn and monitor results\n",
        "trained_rnn,final_prediction = train(rnn, n_steps = 75, print_every= 11)\n",
        "print ('Final predicted value of input time series at t=6: ',final_prediction.item())"
      ],
      "execution_count": 1,
      "outputs": [
        {
          "output_type": "stream",
          "text": [
            "0\n",
            "Loss:  1.5117348432540894\n",
            "Predicted Value:  [-0.18635052 -0.00746428  0.05009793  0.05678663 -0.02306957]\n",
            "True Value:  [-0.6117564  -0.5281718  -1.0729686   0.86540765 -2.3015387 ]\n",
            "11\n",
            "Loss:  0.13453072309494019\n",
            "Predicted Value:  [ 0.00849447 -0.31584212 -1.2586135   1.2727582  -2.5075972 ]\n",
            "True Value:  [-0.6117564  -0.5281718  -1.0729686   0.86540765 -2.3015387 ]\n",
            "22\n",
            "Loss:  0.19528236985206604\n",
            "Predicted Value:  [-1.2275374  -0.65807223 -0.54608953  0.45658743 -1.933278  ]\n",
            "True Value:  [-0.6117564  -0.5281718  -1.0729686   0.86540765 -2.3015387 ]\n",
            "33\n",
            "Loss:  0.08917436003684998\n",
            "Predicted Value:  [-0.07242055 -0.87209296 -1.0512483   0.8208605  -2.486608  ]\n",
            "True Value:  [-0.6117564  -0.5281718  -1.0729686   0.86540765 -2.3015387 ]\n",
            "44\n",
            "Loss:  0.03353014960885048\n",
            "Predicted Value:  [-0.893936  -0.4294107 -1.1992261  0.8064023 -2.0589504]\n",
            "True Value:  [-0.6117564  -0.5281718  -1.0729686   0.86540765 -2.3015387 ]\n",
            "55\n",
            "Loss:  0.009381274692714214\n",
            "Predicted Value:  [-0.52645415 -0.6100819  -0.98218405  0.9279828  -2.445633  ]\n",
            "True Value:  [-0.6117564  -0.5281718  -1.0729686   0.86540765 -2.3015387 ]\n",
            "66\n",
            "Loss:  0.005844640079885721\n",
            "Predicted Value:  [-0.6522238  -0.45216984 -1.0666144   0.76586753 -2.192632  ]\n",
            "True Value:  [-0.6117564  -0.5281718  -1.0729686   0.86540765 -2.3015387 ]\n",
            "Final predicted value of input time series at t=6:  -2.3214540481567383\n"
          ],
          "name": "stdout"
        }
      ]
    },
    {
      "cell_type": "markdown",
      "metadata": {
        "id": "6zfAVRvIFjxh"
      },
      "source": [
        "## Question 2:\n",
        "\n",
        "Given a Multivariate input time sequence and all the trainable parameters of LSTM Cell; Implement all the functionalities of the LSTM cell in order to predict the hidden state and output at time=t; given LSTM \"cell state\" at previous time step (t= t-1), LSTM \"hidden state\" at previous time step ( t= t-1) and the input at time=t. Hint : Follow the following sets of equation for implementing the functionality of LSTM Cell.\n",
        "\n",
        "Forget GATE: $f_{t} = \\sigma(W_{f}[ a_{t-1} ; x_{t}]  + b_{f}) $ (Note that \";\" denotes contatenation operation.)\n",
        "\n",
        "Update GATE: $i_{t} = \\sigma(W_{i}[ a_{t-1} ; x_{t} ] + b_i )$\n",
        "\n",
        "Memory GATE: $\\tilde{c}_{t} = tanh(W_c[ a_{t-1} ; x_{t} ] + b_c )$\n",
        "            update step -> $c_{t} =  f_{t} * c_{t-1} + i_{t} * \\tilde{c}_{t}$  (This operation determines how much information to keep from past and how much to add from current step information)\n",
        "\n",
        "Output GATE: $o_{t} = \\sigma(W_o [ a_{t-1} ; x_{t} ] + b_o)$\n",
        "           Final Output: $a_{t} = o_{t}*tanh(c_t) $\n",
        "( Note: For implementing \"tanh\" operation; use numpy.tanh libary function)\n",
        "\n",
        "\n",
        "a> Compute the value of a specific component of LSTM cell \"Output\" (y), i.e. y[1, 3, 4]? \n",
        "\n",
        "b> Also find the value of a specific component of LSTM hidden state output(a) ; i.e. a[2,1,5].\n",
        "\n",
        "\n"
      ]
    },
    {
      "cell_type": "code",
      "metadata": {
        "id": "FOok6KSeaJ1o",
        "colab": {
          "base_uri": "https://localhost:8080/"
        },
        "outputId": "6be82b25-1ce4-4cce-8b91-193c1c27f0db"
      },
      "source": [
        "\n",
        "import numpy as np\n",
        "np.random.seed(2)\n",
        "\n",
        "## Function implements Sigmoid Activation\n",
        "def sigmoid(x):\n",
        "    return 1 / (1 + np.exp(-x))\n",
        "\n",
        "## Function implements Softmax Activation\n",
        "def softmax(x):\n",
        "    e_x = np.exp(x - np.max(x))\n",
        "    return e_x / e_x.sum(axis=0)\n",
        "\n",
        "## Function implements LSTM \"forward pass\" of a single time step..i.e. given x at time step t, hidden state \n",
        "##at previous time step Memory state at previous time step , this function computes predicted output y at time step t. \n",
        "\n",
        "def lstm_forward_pass(xt, a_prev, c_prev, parameters):\n",
        "    \"\"\"\n",
        "    Implement a single forward step of the LSTM-cell \n",
        "\n",
        "    Arguments:\n",
        "    xt -- your input data at timestep \"t\"\n",
        "    a_prev -- Hidden state at timestep \"t-1\"\n",
        "    c_prev -- Memory state at timestep \"t-1\"\n",
        "\n",
        "    # Trainable Parameters of a LSTM cell\n",
        "    Wf -- Weight matrix of the forget gate; bf -- Bias of the forget gate\n",
        "    Wi -- Weight matrix of the update gate; bi -- Bias of the update gate\n",
        "    Wc -- Weight matrix of the first \"tanh\"; bc --  Bias of the first \"tanh\"\n",
        "    Wo -- Weight matrix of the output gate; bo --  Bias of the output gate\n",
        "    Wy -- Weight matrix relating the hidden-state to the output; by -- Bias relating the hidden-state to the output\n",
        "                        \n",
        "    The LSTM Cell MUST Returns:\n",
        "    a_next -- next hidden state\n",
        "    c_next -- next memory state\n",
        "    yt_pred -- LSTM output prediction at timestep \"t\"\n",
        "    cache -- tuple of values needed for the backward pass, contains (a_next, c_next, a_prev, c_prev, xt, parameters)\n",
        "    Note: ft/it/ot stand for the forget/update/output gates, cct stands for the candidate value (c tilde),\n",
        "          c stands for the memory value\n",
        "    \"\"\"\n",
        "\n",
        "    # Retrieve parameters from \"parameters\"\n",
        "    Wf = parameters[\"Wf\"]; bf = parameters[\"bf\"]\n",
        "    Wi = parameters[\"Wi\"]; bi = parameters[\"bi\"]\n",
        "    Wc = parameters[\"Wc\"]; bc = parameters[\"bc\"]\n",
        "    Wo = parameters[\"Wo\"]; bo = parameters[\"bo\"]\n",
        "    Wy = parameters[\"Wy\"]; by = parameters[\"by\"]\n",
        "    \n",
        "    # Retrieve dimensions from shapes of xt and Wy\n",
        "    n_x, m = xt.shape\n",
        "    n_y, n_a = Wy.shape\n",
        "\n",
        "    ### YOUR CODE STARTS HERE ###\n",
        "    a_prev_and_xt = np.concatenate((a_prev,xt))\n",
        "\n",
        "    ft = sigmoid(np.dot(Wf,a_prev_and_xt) + bf)\n",
        "    it = sigmoid(np.dot(Wi,a_prev_and_xt) + bi)\n",
        "    \n",
        "    \n",
        "    cct = np.tanh(np.dot(Wc,a_prev_and_xt) + bc)\n",
        "    c_next = np.multiply(ft,c_prev) + np.multiply(it,cct)\n",
        "    \n",
        "    ot = sigmoid(np.dot(Wo,a_prev_and_xt) + bo)\n",
        "    a_next = np.multiply(ot,np.tanh(c_next))\n",
        "    \n",
        "\n",
        "    yt_pred = softmax(np.dot(Wy,a_next) + by)\n",
        "    \n",
        "\n",
        "    ### YOUR CODE ENDS HERE ###\n",
        "\n",
        "    # store values needed for backward propagation in cache\n",
        "    cache = (a_next, c_next, a_prev, c_prev, ft, it, cct, ot, xt, parameters)\n",
        "\n",
        "    return a_next, c_next, yt_pred, cache\n",
        "\n",
        "def lstm_forward(x, a0, parameters):\n",
        "    \"\"\"\n",
        "    Implement the forward propagation of the recurrent neural network using an LSTM-cell.\n",
        "\n",
        "    Arguments:\n",
        "    x -- Input data for every time-step\n",
        "    a0 -- Initial hidden state of LSTM cell\n",
        "    parameters \n",
        "    Wf -- Weight matrix of the forget gate ;bf -- Bias of the forget gate\n",
        "    Wi -- Weight matrix of the update gate ;bi -- Bias of the update gate\n",
        "    Wc -- Weight matrix of the first \"tanh\";bc -- Bias of the first \"tanh\"\n",
        "    Wo -- Weight matrix of the output gate; bo -- Bias of the output gate\n",
        "    Wy -- Weight matrix relating the hidden-state to the output; by -- Bias relating the hidden-state to the output\n",
        "                        \n",
        "    This Function call MUST Returns:\n",
        "    a -- Hidden states for every time-step, numpy array of shape (n_a, m, T_x)\n",
        "    y -- Predictions for every time-step, numpy array of shape (n_y, m, T_x)\n",
        "    c -- Memory states for every time-step\n",
        "    caches -- tuple of values needed for the backward pass, contains (list of all the caches, x)\n",
        "    \"\"\"\n",
        "\n",
        "    # Initialize \"caches\", which will track the list of all the caches\n",
        "    caches = []\n",
        "    \n",
        "    ### YOUR CODE STARTS HERE ###\n",
        "    \n",
        "    n_x, m, T_x = x.shape\n",
        "    n_y, n_a = parameters['Wy'].shape\n",
        "    \n",
        "    a = np.zeros((n_a,m,T_x))\n",
        "    \n",
        "    y = np.zeros((n_y,m,T_x))\n",
        "    \n",
        "    c = np.zeros((n_a,m,T_x))\n",
        "    \n",
        "    a_prev = a0\n",
        "    c_prev = c[:,:,0]\n",
        "    \n",
        "    t = 0\n",
        "    while t != T_x:\n",
        "        a_prev, c_prev, yt, cache = lstm_forward_pass(x[:,:,t],a_prev,c_prev,parameters)\n",
        "        a[:,:,t] = a_prev\n",
        "        y[:,:,t] = yt\n",
        "        c[:,:,t]  = c_prev\n",
        "        caches.append(cache)\n",
        "        t+=1\n",
        "        \n",
        "    ### YOUR CODE ENDS HERE ###\n",
        "\n",
        "    # store values needed for backward propagation in cache\n",
        "    caches = (caches, x)\n",
        "  \n",
        "    return a, y, c, caches\n",
        "\n",
        "# Input time sequence\n",
        "x = np.random.randn(3,10,7)\n",
        "\n",
        "# Initial Hidden state of LSTM\n",
        "a0 = np.random.randn(5,10)\n",
        "\n",
        "# Weight and Bias Parameters of FORGET gate\n",
        "Weight_f = np.random.randn(5, 8); bias_f = np.random.randn(5,1)\n",
        "\n",
        "# Weight and Bias Parameters of UPDATE gate\n",
        "Weight_i = np.random.randn(5, 8); bias_i = np.random.randn(5,1)\n",
        "\n",
        "# Weight and Bias Parameters of OUTPUT gate\n",
        "Weight_o = np.random.randn(5, 8); bias_o = np.random.randn(5,1)\n",
        "\n",
        "# Weight and Bias Parameters of MEMORY gate (updating the cell)\n",
        "Weight_c = np.random.randn(5, 8); bias_c = np.random.randn(5,1)\n",
        "\n",
        "# Weight and bias for transforming hidden state output to final LSTM output for downstream application\n",
        "Weight_y = np.random.randn(2,5); bias_y = np.random.randn(2,1)\n",
        "\n",
        "LSTM_parameters = {\"Wf\": Weight_f, \"Wi\": Weight_i, \"Wo\": Weight_o, \"Wc\": Weight_c, \"Wy\": Weight_y, \"bf\": bias_f, \"bi\": bias_i, \"bo\": bias_o, \"bc\": bias_c, \"by\": bias_y}\n",
        "\n",
        "a, y, c, caches = lstm_forward(x, a0, LSTM_parameters)\n",
        "\n",
        "## Print the specific component value of LSTM cell \"Output\" (y) ;i.e. y[1,3,4]\n",
        "print(\"y[1][3][4] =\", y[1][3][4])\n",
        "print(\"y.shape = \", y.shape)\n",
        "\n",
        "## Print the specific component value of LSTM \"hidden state\" Output (a) ;i.e. a[2,1,5]\n",
        "print(\"a[2][1][5] = \", a[2][1][5])\n",
        "print(\"a.shape = \", a.shape)"
      ],
      "execution_count": 2,
      "outputs": [
        {
          "output_type": "stream",
          "text": [
            "y[1][3][4] = 0.21083866421151456\n",
            "y.shape =  (2, 10, 7)\n",
            "a[2][1][5] =  0.023019435434183624\n",
            "a.shape =  (5, 10, 7)\n"
          ],
          "name": "stdout"
        }
      ]
    },
    {
      "cell_type": "markdown",
      "metadata": {
        "id": "2SQRxSU9Tkwx"
      },
      "source": [
        "## Question 3:\n",
        "\n",
        "Time series prediction using recurrent models. \n",
        "\n",
        "Use the airline-passengers.csv file for this task.\n",
        "\n"
      ]
    },
    {
      "cell_type": "code",
      "metadata": {
        "id": "5e5Athrzw-DA",
        "colab": {
          "base_uri": "https://localhost:8080/",
          "height": 265
        },
        "outputId": "00df6e8a-1628-4961-9da9-4668789389c3"
      },
      "source": [
        "import numpy as np\n",
        "import matplotlib.pyplot as plt\n",
        "import pandas as pd\n",
        "import torch\n",
        "import torch.nn as nn\n",
        "from torch.autograd import Variable\n",
        "from sklearn.preprocessing import MinMaxScaler\n",
        "\n",
        "training_set = pd.read_csv('airline-passengers.csv')\n",
        "#training_set = pd.read_csv('shampoo.csv')\n",
        "\n",
        "training_set = training_set.iloc[:,1:2].values\n",
        "\n",
        "#plt.plot(training_set, label = 'Shampoo Sales Data')\n",
        "plt.plot(training_set, label = 'Airline Passangers Data')\n",
        "plt.show()"
      ],
      "execution_count": 3,
      "outputs": [
        {
          "output_type": "display_data",
          "data": {
            "image/png": "[encoded data removed]",
            "text/plain": [
              "<Figure size 432x288 with 1 Axes>"
            ]
          },
          "metadata": {
            "tags": [],
            "needs_background": "light"
          }
        }
      ]
    },
    {
      "cell_type": "markdown",
      "metadata": {
        "id": "_qo-Bn3vxGvD"
      },
      "source": [
        "## Prepare the training and testing dataset.\n"
      ]
    },
    {
      "cell_type": "code",
      "metadata": {
        "id": "ZCFod5yYxQXt"
      },
      "source": [
        "def sliding_windows(data, seq_length):\n",
        "    x = []\n",
        "    y = []\n",
        "\n",
        "    for i in range(len(data)-seq_length-1):\n",
        "        _x = data[i:(i+seq_length)]\n",
        "        _y = data[i+seq_length]\n",
        "        x.append(_x)\n",
        "        y.append(_y)\n",
        "\n",
        "    return np.array(x),np.array(y)\n",
        "\n",
        "sc = MinMaxScaler()\n",
        "training_data = sc.fit_transform(training_set)\n",
        "\n",
        "seq_length = 4\n",
        "x, y = sliding_windows(training_data, seq_length)\n",
        "\n",
        "train_size = int(len(y) * 0.67)\n",
        "test_size = len(y) - train_size\n",
        "\n",
        "dataX = Variable(torch.Tensor(np.array(x)))\n",
        "dataY = Variable(torch.Tensor(np.array(y)))\n",
        "\n",
        "trainX = Variable(torch.Tensor(np.array(x[0:train_size])))\n",
        "trainY = Variable(torch.Tensor(np.array(y[0:train_size])))\n",
        "\n",
        "testX = Variable(torch.Tensor(np.array(x[train_size:len(x)])))\n",
        "testY = Variable(torch.Tensor(np.array(y[train_size:len(y)])))"
      ],
      "execution_count": 4,
      "outputs": []
    },
    {
      "cell_type": "markdown",
      "metadata": {
        "id": "6-fbsv6_xVhu"
      },
      "source": [
        "## Create the model"
      ]
    },
    {
      "cell_type": "code",
      "metadata": {
        "id": "KC_5L1NIxUsR"
      },
      "source": [
        "class LSTM(nn.Module):\n",
        "\n",
        "    def __init__(self, num_classes, input_size, hidden_size, num_layers):\n",
        "        super(LSTM, self).__init__()\n",
        "        \n",
        "        self.num_classes = num_classes\n",
        "        self.num_layers = num_layers\n",
        "        self.input_size = input_size\n",
        "        self.hidden_size = hidden_size\n",
        "        self.seq_length = seq_length\n",
        "\n",
        "        # Your code goes here\n",
        "        # define a lstm block and a fc block\n",
        "        self.lstm = nn.LSTM(input_size, hidden_size, num_layers, batch_first=True)\n",
        "        self.fc = nn.Linear(hidden_size, num_classes)\n",
        "\n",
        "    def forward(self, x):\n",
        "       \n",
        "        # Your code goes here\n",
        "        # Define a forward function for the LSTM block\n",
        "        h0 = torch.zeros(self.num_layers, x.size(0), self.hidden_size)\n",
        "        c0 = torch.zeros(self.num_layers, x.size(0), self.hidden_size)\n",
        "        \n",
        "        # Forward propagate LSTM\n",
        "        out, _ = self.lstm(x, (h0, c0))\n",
        "        out = self.fc(out[:, -1, :])\n",
        "        \n",
        "        return out"
      ],
      "execution_count": 5,
      "outputs": []
    },
    {
      "cell_type": "markdown",
      "metadata": {
        "id": "sQKOnThFxxuJ"
      },
      "source": [
        "## Training"
      ]
    },
    {
      "cell_type": "code",
      "metadata": {
        "id": "vlj9F1Z6xxFR",
        "colab": {
          "base_uri": "https://localhost:8080/"
        },
        "outputId": "8c87dd4d-fdc8-4bd5-cae2-044dfbe809ab"
      },
      "source": [
        "num_epochs = 2000\n",
        "learning_rate = 0.01\n",
        "\n",
        "input_size = 1\n",
        "hidden_size = 2\n",
        "num_layers = 1\n",
        "\n",
        "num_classes = 1\n",
        "\n",
        "lstm = LSTM(num_classes, input_size, hidden_size, num_layers)\n",
        "\n",
        "criterion = torch.nn.MSELoss()    # mean-squared error for regression\n",
        "optimizer = torch.optim.Adam(lstm.parameters(), lr=learning_rate)\n",
        "#optimizer = torch.optim.SGD(lstm.parameters(), lr=learning_rate)\n",
        "# device = torch.device('cpu')\n",
        "# print(trainX.shape)\n",
        "# Train the model\n",
        "for epoch in range(num_epochs):\n",
        "\n",
        "    # Your code goes here\n",
        "    # define a training iteration to the lstm model. Use loss variable to compute the training loss\n",
        "    outputs = lstm(trainX)\n",
        "    loss = criterion(outputs,trainY)\n",
        "    optimizer.zero_grad()\n",
        "    loss.backward()\n",
        "    optimizer.step()\n",
        "\n",
        "    if epoch % 100 == 0:\n",
        "        print(\"Epoch: %d, loss: %1.5f\" % (epoch, loss.item()))"
      ],
      "execution_count": 6,
      "outputs": [
        {
          "output_type": "stream",
          "text": [
            "Epoch: 0, loss: 0.06601\n",
            "Epoch: 100, loss: 0.00327\n",
            "Epoch: 200, loss: 0.00249\n",
            "Epoch: 300, loss: 0.00200\n",
            "Epoch: 400, loss: 0.00180\n",
            "Epoch: 500, loss: 0.00172\n",
            "Epoch: 600, loss: 0.00170\n",
            "Epoch: 700, loss: 0.00168\n",
            "Epoch: 800, loss: 0.00168\n",
            "Epoch: 900, loss: 0.00167\n",
            "Epoch: 1000, loss: 0.00167\n",
            "Epoch: 1100, loss: 0.00167\n",
            "Epoch: 1200, loss: 0.00166\n",
            "Epoch: 1300, loss: 0.00166\n",
            "Epoch: 1400, loss: 0.00166\n",
            "Epoch: 1500, loss: 0.00166\n",
            "Epoch: 1600, loss: 0.00166\n",
            "Epoch: 1700, loss: 0.00165\n",
            "Epoch: 1800, loss: 0.00164\n",
            "Epoch: 1900, loss: 0.00164\n"
          ],
          "name": "stdout"
        }
      ]
    },
    {
      "cell_type": "markdown",
      "metadata": {
        "id": "gF0UsfR8yFrO"
      },
      "source": [
        "## Test and Visualize the results. \n",
        "Plot the output of time series similar to the data plot above."
      ]
    },
    {
      "cell_type": "code",
      "metadata": {
        "id": "y7-eERYByJ3O",
        "colab": {
          "base_uri": "https://localhost:8080/",
          "height": 282
        },
        "outputId": "1703ce82-a9af-4479-ae94-eff9f854ee01"
      },
      "source": [
        "lstm.eval()\n",
        "outputs = lstm(testX)\n",
        "loss = criterion(outputs,testY)\n",
        "\n",
        "predict = outputs.data.numpy()\n",
        "actual = testY.data.numpy()\n",
        "\n",
        "predict = sc.inverse_transform(predict)\n",
        "actual = sc.inverse_transform(actual)\n",
        "\n",
        "print('Test loss of the model: {} %'.format(loss)) \n",
        "plt.plot(predict, label = 'Predicted Airline Passangers Data')\n",
        "plt.plot(actual, label = 'Actual Airline Passangers Data' )\n",
        "plt.legend([\"Predicted\", \"Actual\"], loc =\"upper left\")\n",
        "plt.show()"
      ],
      "execution_count": 7,
      "outputs": [
        {
          "output_type": "stream",
          "text": [
            "Test loss of the model: 0.011211927980184555 %\n"
          ],
          "name": "stdout"
        },
        {
          "output_type": "display_data",
          "data": {
            "image/png": "[encoded data removed]",
            "text/plain": [
              "<Figure size 432x288 with 1 Axes>"
            ]
          },
          "metadata": {
            "tags": [],
            "needs_background": "light"
          }
        }
      ]
    },
    {
      "cell_type": "markdown",
      "metadata": {
        "id": "OPTjxV0G6g8X"
      },
      "source": [
        "#### **Welcome to Assignment 4 (part-2) on Deep Learning for Computer Vision.**\n",
        "This question consists of two subsection. In subsection-1 you'll have to code a Siamese Network, for subsection-2 you need to go through a official PyTorch tutorial on Object Detection, understand it and answer some questions.\n",
        "  \n",
        "#### **Instructions**\n",
        "1. Use Python 3.x to run this notebook\n",
        "2. Write your code only in between the lines 'YOUR CODE STARTS HERE' and 'YOUR CODE ENDS HERE'.\n",
        "you should not change anything else in the code cells, if you do, the answers you are supposed to get at the end of this assignment might be wrong.\n",
        "3. Read documentation of each function carefully.\n",
        "4. All the Best!"
      ]
    },
    {
      "cell_type": "code",
      "metadata": {
        "id": "tJwH6jxrqI-5"
      },
      "source": [
        "import numpy as np\n",
        "import torch\n",
        "import torch.nn as nn\n",
        "import torch.optim as optim\n",
        "from torchvision import datasets, transforms\n",
        "import torch.nn.functional as F\n",
        "from torch.utils.data import Dataset\n",
        "from torch.utils.data.sampler import BatchSampler\n",
        "from torch.optim import lr_scheduler\n",
        "from PIL import Image\n",
        "import timeit\n",
        "\n",
        "## Please DONOT remove these lines. \n",
        "torch.manual_seed(0)\n",
        "torch.backends.cudnn.deterministic = True\n",
        "torch.backends.cudnn.benchmark = False\n",
        "np.random.seed(0)\n",
        "########################\n",
        "\n",
        "#### YOUR CODE STARTS HERE ####\n",
        "# Check availability of GPU and set the device accordingly\n",
        "device = torch.device(\"cuda\" if torch.cuda.is_available() else \"cpu\")\n",
        "#### YOUR CODE ENDS HERE ####\n"
      ],
      "execution_count": 8,
      "outputs": []
    },
    {
      "cell_type": "markdown",
      "metadata": {
        "id": "nhSvcqdYqJ6U"
      },
      "source": [
        "#### Prepare the dataset for Siamese Network"
      ]
    },
    {
      "cell_type": "code",
      "metadata": {
        "id": "zKI1T9V1vVVB",
        "colab": {
          "base_uri": "https://localhost:8080/"
        },
        "outputId": "d39d64a5-db1d-4f94-8250-1dead463ffc7"
      },
      "source": [
        "!wget www.di.ens.fr/~lelarge/MNIST.tar.gz\n",
        "!tar -zxvf MNIST.tar.gz\n",
        "# from torchvision.datasets import MNIST"
      ],
      "execution_count": 9,
      "outputs": [
        {
          "output_type": "stream",
          "text": [
            "--2021-03-30 09:04:17--  http://www.di.ens.fr/~lelarge/MNIST.tar.gz\n",
            "Resolving www.di.ens.fr (www.di.ens.fr)... 129.199.99.14\n",
            "Connecting to www.di.ens.fr (www.di.ens.fr)|129.199.99.14|:80... connected.\n",
            "HTTP request sent, awaiting response... 302 Found\n",
            "Location: https://www.di.ens.fr/~lelarge/MNIST.tar.gz [following]\n",
            "--2021-03-30 09:04:17--  https://www.di.ens.fr/~lelarge/MNIST.tar.gz\n",
            "Connecting to www.di.ens.fr (www.di.ens.fr)|129.199.99.14|:443... connected.\n",
            "HTTP request sent, awaiting response... 200 OK\n",
            "Length: unspecified [application/x-gzip]\n",
            "Saving to: ‘MNIST.tar.gz’\n",
            "\n",
            "MNIST.tar.gz            [         <=>        ]  33.20M  17.4MB/s    in 1.9s    \n",
            "\n",
            "2021-03-30 09:04:19 (17.4 MB/s) - ‘MNIST.tar.gz’ saved [34813078]\n",
            "\n",
            "MNIST/\n",
            "MNIST/raw/\n",
            "MNIST/raw/train-labels-idx1-ubyte\n",
            "MNIST/raw/t10k-labels-idx1-ubyte.gz\n",
            "MNIST/raw/t10k-labels-idx1-ubyte\n",
            "MNIST/raw/t10k-images-idx3-ubyte.gz\n",
            "MNIST/raw/train-images-idx3-ubyte\n",
            "MNIST/raw/train-labels-idx1-ubyte.gz\n",
            "MNIST/raw/t10k-images-idx3-ubyte\n",
            "MNIST/raw/train-images-idx3-ubyte.gz\n",
            "MNIST/processed/\n",
            "MNIST/processed/training.pt\n",
            "MNIST/processed/test.pt\n"
          ],
          "name": "stdout"
        }
      ]
    },
    {
      "cell_type": "code",
      "metadata": {
        "id": "stYbGPoLqzDE"
      },
      "source": [
        "class SiameseDataset(Dataset):\n",
        "    def __init__(self, train=True):\n",
        "        \n",
        "        self.train = train\n",
        "        #### YOUR CODE STARTS HERE ####\n",
        "        # Define a set of transforms for preparing the dataset\n",
        "        self.transform = transforms.Compose([transforms.ToTensor(),transforms.Normalize(mean = (0.1307) , std = (0.3081))]) # convert the image to a pytorch tensor\n",
        "                          # normalise the images with mean and std of the dataset\n",
        "        \n",
        "        # Load the MNIST training, test datasets using `torchvision.datasets.MNIST\n",
        "        # Set the train parameter to self.train and transform parameter to self.transform\n",
        "        self.dataset = datasets.MNIST(\"\" , train = self.train, transform = self.transform,download=True)\n",
        "\n",
        "        #### YOUR CODE ENDS HERE ####\n",
        "        if self.train:\n",
        "            #### YOUR CODE STARTS HERE ####\n",
        "            # assign input (x-values) of training data \n",
        "            self.train_data = self.dataset.data\n",
        "            # assign labels of training data \n",
        "            self.train_labels = self.dataset.targets\n",
        "            # get the set of all the labels in the dataset\n",
        "            self.labels_all = set(self.train_labels.numpy())\n",
        "\n",
        "            # assign a unique index to all labels in the dataset and store them in a dictionary \n",
        "            self.label_to_idx = {c_lass: np.where(self.train_labels.numpy() == c_lass)[0] for c_lass in self.labels_all}\n",
        "\n",
        "\n",
        "            #### YOUR CODE ENDS HERE ####\n",
        "        else:\n",
        "            #### YOUR CODE STARTS HERE ####\n",
        "            # assign input (x-values) of test data \n",
        "            self.test_data = self.dataset.data\n",
        "            # assign labels of test data \n",
        "            self.test_labels = self.dataset.targets\n",
        "            # get the set of all the labels in the dataset\n",
        "            self.labels_all = set(self.test_labels.numpy())\n",
        "            # assign a unique index to all labels in the dataset and store them in a dictionary \n",
        "            self.label_to_idx = {c_lass: np.where(self.test_labels.numpy() == c_lass)[0] for c_lass in self.labels_all}\n",
        "                                 \n",
        "            #### YOUR CODE ENDS HERE ####\n",
        "            # DONOT change this line of code  \n",
        "            random_state = np.random.RandomState(0)\n",
        "\n",
        "            positive_samples = [] # this will be a list of lists\n",
        "            for ind in range(0, len(self.test_data), 2):\n",
        "                positive_samples.append([ind, random_state.choice(self.label_to_idx[self.test_labels[ind].item()]), 1])\n",
        "            \n",
        "            negative_samples = []\n",
        "            for ind in range(1, len(self.test_data), 2):\n",
        "                negative_samples.append([ind, random_state.choice(self.label_to_idx[np.random.choice(\n",
        "                                                           list(self.labels_all - set([self.test_labels[ind].item()])))]), 0])\n",
        "            \n",
        "            # combine both positive and negative samples into a single variable\n",
        "            #### YOUR CODE STARTS HERE ####\n",
        "            self.test_samples =  positive_samples + negative_samples\n",
        "            #### YOUR CODE ENDS HERE ####\n",
        "    def __len__(self):\n",
        "        return len(self.dataset)\n",
        "\n",
        "    def __getitem__(self, index):\n",
        "        # get image pair, and the associated label (1 for similar, 0 for dissimilar)\n",
        "        if self.train:\n",
        "            #### YOUR CODE STARTS HERE ####\n",
        "            # choose if training sample is similar or dissimilar\n",
        "            # choose two images call them `first_image` and `second_image`\n",
        "            # target = np.random.randint(0, 2)\n",
        "            probablity_for_similar = 0.5\n",
        "            p = [1-probablity_for_similar , probablity_for_similar]\n",
        "            target = np.random.choice([0,1],1,p)\n",
        "            target = target[0]\n",
        "            first_image_index = index\n",
        "            first_image  = self.train_data[first_image_index]\n",
        "            first_image_label =self.train_labels[first_image_index].item()\n",
        "            if target == 1:\n",
        "                second_image_index = np.random.choice(self.label_to_idx[first_image_label])\n",
        "                if second_image_index == first_image_index:\n",
        "                  second_image_index = np.random.choice(self.label_to_idx[first_image_label])\n",
        "            else:\n",
        "                second_image_label = np.random.choice(list(self.labels_all - set([first_image_label])))\n",
        "                second_image_index = np.random.choice(self.label_to_idx[second_image_label])\n",
        "            second_image = self.train_data[second_image_index]\n",
        "            \n",
        "            #### YOUR CODE ENDS HERE ####\n",
        "        else:\n",
        "            #### YOUR CODE STARTS HERE ####\n",
        "            # select two images from self.test_samples, call them `first_image` and `second_image`\n",
        "            first_image = self.test_data[self.test_samples[index][0]]\n",
        "            second_image = self.test_data[self.test_samples[index][1]]\n",
        "            target = self.test_samples[index][2]\n",
        "\n",
        "            #### YOUR CODE ENDS HERE ####\n",
        "        \n",
        "        first_image = Image.fromarray(first_image.numpy(), mode='L')\n",
        "        second_image = Image.fromarray(second_image.numpy(), mode='L')\n",
        "        first_image = self.transform(first_image)\n",
        "        second_image = self.transform(second_image)\n",
        "        return (first_image, second_image), target\n"
      ],
      "execution_count": 10,
      "outputs": []
    },
    {
      "cell_type": "code",
      "metadata": {
        "id": "9gEE-dEarnvg"
      },
      "source": [
        "class EmbeddingNet(nn.Module):\n",
        "    def __init__(self):\n",
        "        super(EmbeddingNet, self).__init__()\n",
        "        #### YOUR CODE STARTS HERE ####\n",
        "        # Define a sequential block as per the instructions below:\n",
        "        # Build three blocks with each block containing: Conv->PReLU->Maxpool layers\n",
        "        # Three conv layers should have 16, 32, 64 output channels respectively\n",
        "        # Use convolution kernel size 3\n",
        "        # For maxpool use a kernel size of 2 and stride of 2\n",
        "\n",
        "        self.convnet = nn.Sequential(nn.Conv2d(1, 16, 3), nn.PReLU(),nn.MaxPool2d(2, stride=2),\n",
        "                                     nn.Conv2d(16, 32, 3), nn.PReLU(),nn.MaxPool2d(2, stride=2),\n",
        "                                     nn.Conv2d(32, 64, 3), nn.PReLU(),nn.MaxPool2d(2, stride=2))\n",
        "\n",
        "\n",
        "\n",
        "        # Define linear->PReLU->linear->PReLU->linear\n",
        "        # The first two linear layers should have 256 and 128 output nodes\n",
        "        # The final FC layer should have 2 nodes\n",
        "        self.fc = nn.Sequential(nn.Linear(64 * 1 * 1, 256),nn.PReLU(),\n",
        "                                nn.Linear(256, 128),nn.PReLU(),\n",
        "                                nn.Linear(128, 2))\n",
        "\n",
        "        #### YOUR CODE ENDS HERE ####\n",
        "\n",
        "    def forward(self, x):\n",
        "      #### YOUR CODE STARTS HERE ####\n",
        "        # Define the forward pass, convnet -> fc\n",
        "        output = (self.convnet(x))\n",
        "        output = output.view(output.size()[0], -1)\n",
        "        output = self.fc(output)\n",
        "        #### YOUR CODE ENDS HERE ####\n",
        "        return output"
      ],
      "execution_count": 11,
      "outputs": []
    },
    {
      "cell_type": "code",
      "metadata": {
        "id": "JPIClNjsrz78"
      },
      "source": [
        "class SiameseNetwork(nn.Module):\n",
        "    def __init__(self, embedding_net):\n",
        "        super(SiameseNetwork, self).__init__()\n",
        "        self.embedding_net = embedding_net\n",
        "\n",
        "    def forward(self, x1, x2):\n",
        "        # Call the embedding network for both the inputs and return the output\n",
        "        #### YOUR CODE ENDS HERE ####\n",
        "        op1 = self.embedding_net(x1)\n",
        "        op2 = self.embedding_net(x2)\n",
        "        #### YOUR CODE ENDS HERE ####\n",
        "        return op1, op2"
      ],
      "execution_count": 12,
      "outputs": []
    },
    {
      "cell_type": "markdown",
      "metadata": {
        "id": "nzlZzVgmM3hC"
      },
      "source": [
        "Pairwise contrastive loss\n",
        "$$\n",
        "L\\left(x_{0}, x_{1}, y\\right)=\\frac{1}{2} y\\left\\|f\\left(x_{0}\\right)-f\\left(x_{1}\\right)\\right\\|_{2}^{2}+\\frac{1}{2}(1-y)\\left\\{\\max (0, m-\\sqrt{\\|f(x_{0})-f(x_{1})\\|_{2}^{2} + \\epsilon)})\\right\\}^{2}\n",
        "$$"
      ]
    },
    {
      "cell_type": "code",
      "metadata": {
        "id": "BclsdWZSr4RK"
      },
      "source": [
        "class ContrastiveLossSiamese(nn.Module):\n",
        "\n",
        "    def __init__(self, margin):\n",
        "        super(ContrastiveLossSiamese, self).__init__()\n",
        "        self.margin = margin\n",
        "        self.eps = 1e-9\n",
        "\n",
        "    def forward(self, output1, output2, target):\n",
        "        # Use the equation mentioned above to define the loss\n",
        "        #### YOUR CODE STARTS HERE ####\n",
        "        loss_value =  ((1/2) * target * (((output2 - output1)**2).sum(1)) +\n",
        "                       (1/2)* (1 - target) * F.relu(self.margin - ((((output2 - output1)**2).sum(1)) + self.eps).sqrt())**2)\n",
        "        \n",
        "        #### YOUR CODE ENDS HERE ####\n",
        "        loss_value = loss_value.mean()\n",
        "\n",
        "        return loss_value"
      ],
      "execution_count": 13,
      "outputs": []
    },
    {
      "cell_type": "code",
      "metadata": {
        "id": "ZVrUkFLmca1I"
      },
      "source": [
        "def train(model, train_loader, device, optimizer, criterion, epoch):\n",
        "    model.train()\n",
        "    losses = []\n",
        "    total_loss = 0\n",
        "\n",
        "    for batch_idx, (data, target) in enumerate(train_loader):\n",
        "        #### YOUR CODE STARTS HERE ####\n",
        "        # send the image, target to the device\n",
        "        # data is not a single value here,\n",
        "        # ensure datatype of variable `data` is tuple\n",
        "\n",
        "        if type(data) != tuple:\n",
        "          data = tuple(data)\n",
        "        data = tuple(i.to(device) for i in data)\n",
        "        target = target.to(device)\n",
        "        target = (target,)\n",
        "\n",
        "        # flush out the gradients stored in optimizer\n",
        "        optimizer.zero_grad()\n",
        "\n",
        "        # pass the image to the model and assign the output to variable named outputs\n",
        "        # python star operator will be useful here\n",
        "        # if the datatype of outputs is not a tuple, make it to a tuple\n",
        "\n",
        "        outputs = model(*data)\n",
        "\n",
        "        if type(outputs) != tuple:\n",
        "          outputs = tuple(outputs)\n",
        "        \n",
        "        # print(type(data),type(outputs),type(target))\n",
        "\n",
        "        # create inputs to the contrastive loss (datatype should be tuple)\n",
        "        # calculate the loss using criterion \n",
        "        \n",
        "        loss = criterion(*outputs,*target)\n",
        "\n",
        "        # append the loss to losses list and update the total_loss variable\n",
        "\n",
        "        losses.append(loss.item())\n",
        "        total_loss += loss.item()\n",
        "\n",
        "        # do a backward pass\n",
        "        loss.backward()\n",
        "\n",
        "        # update the weights\n",
        "        optimizer.step()\n",
        "\n",
        "        #### YOUR CODE ENDS HERE ####\n",
        "\n",
        "        if batch_idx % 20 == 0:\n",
        "            print('Train Epoch: {} [{}/{} ({:.0f}%)]\\tLoss: {:.6f}'.format(\n",
        "                epoch, batch_idx * len(data[0]), len(train_loader.dataset),\n",
        "                100. * batch_idx / len(train_loader), np.mean(losses)))  \n",
        "    total_loss /= (batch_idx + 1)\n",
        "    print('Average loss on training set: {:.6f}'.format(total_loss))\n",
        "    return total_loss\n",
        "\n",
        "def test(model, test_loader, device, criterion):\n",
        "    model.eval()\n",
        "    test_loss = 0\n",
        "    with torch.no_grad():\n",
        "        for batch_idx, (data, target) in enumerate(test_loader):\n",
        "            #### YOUR CODE STARTS HERE ####\n",
        "            # send the image, target to the device\n",
        "            # data is not a single value here,\n",
        "            # ensure datatype of variable `data` is tuple\n",
        "\n",
        "            if type(data) != tuple:\n",
        "              data = tuple(data)\n",
        "            target = target.to(device)\n",
        "            target = (target,)\n",
        "\n",
        "            # pass the image to the model and assign the output to variable named outputs\n",
        "            # python star operator will be useful here\n",
        "            # if the datatype of outputs is not a tuple, make it to a tuple\n",
        "\n",
        "            outputs = model(*data)\n",
        "\n",
        "            if type(outputs) != tuple:\n",
        "              outputs = tuple(outputs)\n",
        "            \n",
        "            # create inputs to the contrastive loss\n",
        "            # datatype of target should be tuple\n",
        "            # calculate the loss\n",
        "\n",
        "            loss = criterion(*outputs,*target)\n",
        "\n",
        "            # update the test_loss variable\n",
        "\n",
        "            test_loss += loss.item()\n",
        "            \n",
        "            #### YOUR CODE ENDS HERE ####\n",
        "\n",
        "    test_loss /= len(test_loader)\n",
        "    print('Average loss on test set: {:.6f}'.format(test_loss))\n",
        "    return test_loss\n"
      ],
      "execution_count": 14,
      "outputs": []
    },
    {
      "cell_type": "code",
      "metadata": {
        "id": "aDZAVVWVcAC5"
      },
      "source": [
        "# define the training and test sets\n",
        "# use SiameseDataset\n",
        "train_dataset = SiameseDataset()\n",
        "test_dataset = SiameseDataset(train=False)\n",
        "\n",
        "# create dataloaders for training and test datasets\n",
        "# use a batch size of 128 and set shuffle=True for the training set, set num_workers to 2 and pin_memory to True\n",
        "train_dataloader = torch.utils.data.DataLoader(train_dataset, batch_size=128, shuffle=True,num_workers=2,pin_memory=True)\n",
        "test_dataloader = torch.utils.data.DataLoader(test_dataset, batch_size=128, shuffle=False, num_workers=2,pin_memory=True)\n",
        "\n",
        "margin = 1.\n",
        "# create a instance of the embedding network and pass it as input to Siamese network\n",
        "embedding_net = EmbeddingNet().to(device)\n",
        "model = SiameseNetwork(embedding_net).to(device)\n",
        "# define the contrative loss with the specified margin\n",
        "criterion = ContrastiveLossSiamese(margin).to(device)\n",
        "optimizer = optim.Adam(model.parameters(), lr=0.01)"
      ],
      "execution_count": 15,
      "outputs": []
    },
    {
      "cell_type": "code",
      "metadata": {
        "colab": {
          "base_uri": "https://localhost:8080/"
        },
        "id": "CejgunVGzJPK",
        "outputId": "899c8c3c-dfdc-462f-e767-7f595d056938"
      },
      "source": [
        "start = timeit.default_timer()\n",
        "train_loss = []\n",
        "test_loss = []\n",
        "for epoch in range(1, 5):\n",
        "    trn = train(model, train_dataloader, device, optimizer, criterion, epoch) ; train_loss.append(trn)\n",
        "    tst = test(model, test_dataloader, device, criterion) ; test_loss.append(tst)\n",
        "\n",
        "\n",
        "stop = timeit.default_timer()\n",
        "print('Total time taken: {} seconds'.format(int(stop - start)) )"
      ],
      "execution_count": 16,
      "outputs": [
        {
          "output_type": "stream",
          "text": [
            "Train Epoch: 1 [0/60000 (0%)]\tLoss: 0.255644\n",
            "Train Epoch: 1 [2560/60000 (4%)]\tLoss: 0.188845\n",
            "Train Epoch: 1 [5120/60000 (9%)]\tLoss: 0.138287\n",
            "Train Epoch: 1 [7680/60000 (13%)]\tLoss: 0.117772\n",
            "Train Epoch: 1 [10240/60000 (17%)]\tLoss: 0.105398\n",
            "Train Epoch: 1 [12800/60000 (21%)]\tLoss: 0.096398\n",
            "Train Epoch: 1 [15360/60000 (26%)]\tLoss: 0.089778\n",
            "Train Epoch: 1 [17920/60000 (30%)]\tLoss: 0.084186\n",
            "Train Epoch: 1 [20480/60000 (34%)]\tLoss: 0.080262\n",
            "Train Epoch: 1 [23040/60000 (38%)]\tLoss: 0.077147\n",
            "Train Epoch: 1 [25600/60000 (43%)]\tLoss: 0.074554\n",
            "Train Epoch: 1 [28160/60000 (47%)]\tLoss: 0.072086\n",
            "Train Epoch: 1 [30720/60000 (51%)]\tLoss: 0.070238\n",
            "Train Epoch: 1 [33280/60000 (55%)]\tLoss: 0.068403\n",
            "Train Epoch: 1 [35840/60000 (60%)]\tLoss: 0.066718\n",
            "Train Epoch: 1 [38400/60000 (64%)]\tLoss: 0.065057\n",
            "Train Epoch: 1 [40960/60000 (68%)]\tLoss: 0.063564\n",
            "Train Epoch: 1 [43520/60000 (72%)]\tLoss: 0.062137\n",
            "Train Epoch: 1 [46080/60000 (77%)]\tLoss: 0.060919\n",
            "Train Epoch: 1 [48640/60000 (81%)]\tLoss: 0.059677\n",
            "Train Epoch: 1 [51200/60000 (85%)]\tLoss: 0.058261\n",
            "Train Epoch: 1 [53760/60000 (90%)]\tLoss: 0.056939\n",
            "Train Epoch: 1 [56320/60000 (94%)]\tLoss: 0.055700\n",
            "Train Epoch: 1 [58880/60000 (98%)]\tLoss: 0.054562\n",
            "Average loss on training set: 0.054111\n",
            "Average loss on test set: 0.027016\n",
            "Train Epoch: 2 [0/60000 (0%)]\tLoss: 0.022917\n",
            "Train Epoch: 2 [2560/60000 (4%)]\tLoss: 0.031867\n",
            "Train Epoch: 2 [5120/60000 (9%)]\tLoss: 0.032069\n",
            "Train Epoch: 2 [7680/60000 (13%)]\tLoss: 0.030682\n",
            "Train Epoch: 2 [10240/60000 (17%)]\tLoss: 0.030177\n",
            "Train Epoch: 2 [12800/60000 (21%)]\tLoss: 0.029416\n",
            "Train Epoch: 2 [15360/60000 (26%)]\tLoss: 0.028842\n",
            "Train Epoch: 2 [17920/60000 (30%)]\tLoss: 0.028195\n",
            "Train Epoch: 2 [20480/60000 (34%)]\tLoss: 0.027953\n",
            "Train Epoch: 2 [23040/60000 (38%)]\tLoss: 0.027478\n",
            "Train Epoch: 2 [25600/60000 (43%)]\tLoss: 0.027242\n",
            "Train Epoch: 2 [28160/60000 (47%)]\tLoss: 0.027300\n",
            "Train Epoch: 2 [30720/60000 (51%)]\tLoss: 0.027244\n",
            "Train Epoch: 2 [33280/60000 (55%)]\tLoss: 0.027103\n",
            "Train Epoch: 2 [35840/60000 (60%)]\tLoss: 0.026711\n",
            "Train Epoch: 2 [38400/60000 (64%)]\tLoss: 0.026415\n",
            "Train Epoch: 2 [40960/60000 (68%)]\tLoss: 0.026204\n",
            "Train Epoch: 2 [43520/60000 (72%)]\tLoss: 0.025825\n",
            "Train Epoch: 2 [46080/60000 (77%)]\tLoss: 0.025595\n",
            "Train Epoch: 2 [48640/60000 (81%)]\tLoss: 0.025527\n",
            "Train Epoch: 2 [51200/60000 (85%)]\tLoss: 0.025583\n",
            "Train Epoch: 2 [53760/60000 (90%)]\tLoss: 0.025438\n",
            "Train Epoch: 2 [56320/60000 (94%)]\tLoss: 0.025298\n",
            "Train Epoch: 2 [58880/60000 (98%)]\tLoss: 0.025191\n",
            "Average loss on training set: 0.025103\n",
            "Average loss on test set: 0.021279\n",
            "Train Epoch: 3 [0/60000 (0%)]\tLoss: 0.024614\n",
            "Train Epoch: 3 [2560/60000 (4%)]\tLoss: 0.021467\n",
            "Train Epoch: 3 [5120/60000 (9%)]\tLoss: 0.021903\n",
            "Train Epoch: 3 [7680/60000 (13%)]\tLoss: 0.021158\n",
            "Train Epoch: 3 [10240/60000 (17%)]\tLoss: 0.020866\n",
            "Train Epoch: 3 [12800/60000 (21%)]\tLoss: 0.020827\n",
            "Train Epoch: 3 [15360/60000 (26%)]\tLoss: 0.021062\n",
            "Train Epoch: 3 [17920/60000 (30%)]\tLoss: 0.021195\n",
            "Train Epoch: 3 [20480/60000 (34%)]\tLoss: 0.021025\n",
            "Train Epoch: 3 [23040/60000 (38%)]\tLoss: 0.020634\n",
            "Train Epoch: 3 [25600/60000 (43%)]\tLoss: 0.020510\n",
            "Train Epoch: 3 [28160/60000 (47%)]\tLoss: 0.020712\n",
            "Train Epoch: 3 [30720/60000 (51%)]\tLoss: 0.020640\n",
            "Train Epoch: 3 [33280/60000 (55%)]\tLoss: 0.020768\n",
            "Train Epoch: 3 [35840/60000 (60%)]\tLoss: 0.020916\n",
            "Train Epoch: 3 [38400/60000 (64%)]\tLoss: 0.020941\n",
            "Train Epoch: 3 [40960/60000 (68%)]\tLoss: 0.021142\n",
            "Train Epoch: 3 [43520/60000 (72%)]\tLoss: 0.021145\n",
            "Train Epoch: 3 [46080/60000 (77%)]\tLoss: 0.021155\n",
            "Train Epoch: 3 [48640/60000 (81%)]\tLoss: 0.020930\n",
            "Train Epoch: 3 [51200/60000 (85%)]\tLoss: 0.020815\n",
            "Train Epoch: 3 [53760/60000 (90%)]\tLoss: 0.020982\n",
            "Train Epoch: 3 [56320/60000 (94%)]\tLoss: 0.020911\n",
            "Train Epoch: 3 [58880/60000 (98%)]\tLoss: 0.020902\n",
            "Average loss on training set: 0.020916\n",
            "Average loss on test set: 0.020301\n",
            "Train Epoch: 4 [0/60000 (0%)]\tLoss: 0.021086\n",
            "Train Epoch: 4 [2560/60000 (4%)]\tLoss: 0.022083\n",
            "Train Epoch: 4 [5120/60000 (9%)]\tLoss: 0.020598\n",
            "Train Epoch: 4 [7680/60000 (13%)]\tLoss: 0.020502\n",
            "Train Epoch: 4 [10240/60000 (17%)]\tLoss: 0.019633\n",
            "Train Epoch: 4 [12800/60000 (21%)]\tLoss: 0.020338\n",
            "Train Epoch: 4 [15360/60000 (26%)]\tLoss: 0.020540\n",
            "Train Epoch: 4 [17920/60000 (30%)]\tLoss: 0.020299\n",
            "Train Epoch: 4 [20480/60000 (34%)]\tLoss: 0.019779\n",
            "Train Epoch: 4 [23040/60000 (38%)]\tLoss: 0.019437\n",
            "Train Epoch: 4 [25600/60000 (43%)]\tLoss: 0.019193\n",
            "Train Epoch: 4 [28160/60000 (47%)]\tLoss: 0.018817\n",
            "Train Epoch: 4 [30720/60000 (51%)]\tLoss: 0.018699\n",
            "Train Epoch: 4 [33280/60000 (55%)]\tLoss: 0.018311\n",
            "Train Epoch: 4 [35840/60000 (60%)]\tLoss: 0.018258\n",
            "Train Epoch: 4 [38400/60000 (64%)]\tLoss: 0.018326\n",
            "Train Epoch: 4 [40960/60000 (68%)]\tLoss: 0.018138\n",
            "Train Epoch: 4 [43520/60000 (72%)]\tLoss: 0.018258\n",
            "Train Epoch: 4 [46080/60000 (77%)]\tLoss: 0.018607\n",
            "Train Epoch: 4 [48640/60000 (81%)]\tLoss: 0.018745\n",
            "Train Epoch: 4 [51200/60000 (85%)]\tLoss: 0.018795\n",
            "Train Epoch: 4 [53760/60000 (90%)]\tLoss: 0.018675\n",
            "Train Epoch: 4 [56320/60000 (94%)]\tLoss: 0.018588\n",
            "Train Epoch: 4 [58880/60000 (98%)]\tLoss: 0.018585\n",
            "Average loss on training set: 0.018568\n",
            "Average loss on test set: 0.020805\n",
            "Total time taken: 303 seconds\n"
          ],
          "name": "stdout"
        }
      ]
    },
    {
      "cell_type": "markdown",
      "metadata": {
        "id": "5S0vb38a_o_r"
      },
      "source": [
        "### Question 4\n",
        "\n",
        "Run the code cell above and plot(on the same graph) the average train and test losses w.r.t epochs trained."
      ]
    },
    {
      "cell_type": "code",
      "metadata": {
        "colab": {
          "base_uri": "https://localhost:8080/",
          "height": 279
        },
        "id": "nEK6JrprpuEP",
        "outputId": "1fcd1a79-94e2-44f6-a4f0-a3f04f64edda"
      },
      "source": [
        "plt.plot(train_loss, label = 'Train Loss')\n",
        "plt.plot(test_loss, label = 'Test Loss' )\n",
        "plt.xlabel(\"epoch\")\n",
        "plt.ylabel(\"loss\")\n",
        "plt.legend([\"Train Loss\", \"Test Loss\"], loc =\"upper right\")\n",
        "plt.show()"
      ],
      "execution_count": 17,
      "outputs": [
        {
          "output_type": "display_data",
          "data": {
            "image/png": "[encoded data removed]",
            "text/plain": [
              "<Figure size 432x288 with 1 Axes>"
            ]
          },
          "metadata": {
            "tags": [],
            "needs_background": "light"
          }
        }
      ]
    },
    {
      "cell_type": "markdown",
      "metadata": {
        "id": "vgyN14PN5npM"
      },
      "source": [
        "### Question 5\n",
        "\n",
        "We have looked at training a Siamese Network with a pairwise contrastive loss. How would you modify the architecture above to use a triplet loss? The triplet loss is a ranking loss that uses image triplets consisting of an anchor $x_a$, a positive sample(similar to the anchor image) $x_p$ and a negative sample(dissimilar to the anchor image) $x_n$. Given triplet $(x_a, x_p, x_n)$ the teiplet loss is:\n",
        "\n",
        "$$\n",
        "L\\left(x_{a}, x_{p}, x_{n}\\right)=\\max \\left(0, m + \\|f(x_{a})-f(x_{p})\\|_{2}^{2} - \\|f(x_{a})-f(x_{n})\\|_{2}^{2}\\right)\n",
        "$$\n",
        "\n",
        "1. Write the dataloader to get triplets.\n",
        "2. Write code for class TripletLossSiamese. (the triplet loss)\n",
        "3. Describe in words how would you modify the network architecture to train it with a triplet loss."
      ]
    },
    {
      "cell_type": "code",
      "metadata": {
        "id": "s1UhDPNO5npM"
      },
      "source": [
        "# Question 2.1, dataloader for triplets\n",
        "class TripletDataset(Dataset):\n",
        "    def __init__(self, train=True):\n",
        "        \n",
        "        self.train = train\n",
        "        #### YOUR CODE STARTS HERE ####\n",
        "        # Define a set of transforms for preparing the dataset\n",
        "        self.transform = transforms.Compose([transforms.ToTensor(),transforms.Normalize(mean = (0.1307) , std = (0.3081))])\n",
        "                          # convert the image to a pytorch tensor\n",
        "                          # normalise the images with mean and std of the dataset\n",
        "        \n",
        "        # Load the MNIST training, test datasets using `torchvision.datasets.MNIST\n",
        "        # Set the train parameter to self.train and transform parameter to self.transform\n",
        "        self.dataset = datasets.MNIST(\"\" , train = self.train, transform = self.transform,download=True)\n",
        "\n",
        "        #### YOUR CODE ENDS HERE ####\n",
        "        if self.train:\n",
        "            #### YOUR CODE STARTS HERE ####\n",
        "            # assign input (x-values) of training data \n",
        "            self.train_data = self.dataset.data\n",
        "            # assign labels of training data \n",
        "            self.train_labels = self.dataset.targets\n",
        "            # get the set of all the labels in the dataset\n",
        "            self.labels_all = set(self.train_labels.numpy())\n",
        "            self.label_to_idx = {c_lass: np.where(self.train_labels.numpy() == c_lass)[0] for c_lass in self.labels_all} # assign a unique index to all labels in the dataset and store them in a dictionary \n",
        "\n",
        "            #### YOUR CODE ENDS HERE ####\n",
        "        else:\n",
        "            #### YOUR CODE STARTS HERE ####\n",
        "            # assign input (x-values) of test data \n",
        "            self.test_data = self.dataset.data\n",
        "            # assign labels of test data \n",
        "            self.test_labels = self.dataset.targets\n",
        "            # get the set of all the labels in the dataset\n",
        "            self.labels_all = set(self.test_labels.numpy())\n",
        "            self.label_to_idx = {c_lass: np.where(self.test_labels.numpy() == c_lass)[0] for c_lass in self.labels_all} # assign a unique index to all labels in the dataset and store them in a dictionary \n",
        "\n",
        "            #### YOUR CODE ENDS HERE ####\n",
        "            # DONOT change this line of code  \n",
        "            random_state = np.random.RandomState(0)\n",
        "            triplets = [] #this will be list of lists\n",
        "            for i in range(len(self.test_data)):\n",
        "                triplets.append([i, random_state.choice(self.label_to_idx[self.test_labels[i].item()]),\n",
        "                 random_state.choice(self.label_to_idx[np.random.choice(list(self.labels_all - set([self.test_labels[i].item()])))])\n",
        "                                ])\n",
        "            self.test_samples = triplets\n",
        "\n",
        "           \n",
        "    def __len__(self):\n",
        "        return len(self.dataset)\n",
        "\n",
        "    def __getitem__(self, index):\n",
        "        # get image triplet\n",
        "        if self.train:\n",
        "            anchor, anchor_label = self.train_data[index], self.train_labels[index].item()\n",
        "            #### YOUR CODE STARTS HERE ####\n",
        "            #choose positive and negative image call them `positive` and `negative` respectively\n",
        "            positive_index = np.random.choice(self.label_to_idx[anchor_label])\n",
        "            if positive_index == index:\n",
        "              positive_index = np.random.choice(self.label_to_idx[anchor_label])\n",
        "            negative_label = np.random.choice(list(self.labels_all - set([anchor_label])))\n",
        "            negative_index = np.random.choice(self.label_to_idx[negative_label])\n",
        "            positive = self.train_data[positive_index]\n",
        "            negative = self.train_data[negative_index]\n",
        "        \n",
        "            \n",
        "            #### YOUR CODE ENDS HERE ####\n",
        "        else:\n",
        "            #### YOUR CODE STARTS HERE ####\n",
        "            # select three images from self.test_samples\n",
        "            anchor =   self.test_data[self.test_samples[index][0]]\n",
        "            positive = self.test_data[self.test_samples[index][1]]\n",
        "            negative = self.test_data[self.test_samples[index][2]]\n",
        "            #### YOUR CODE ENDS HERE ####\n",
        "        \n",
        "        anchor = Image.fromarray(anchor.numpy(), mode='L')\n",
        "        positive = Image.fromarray(positive.numpy(), mode='L')\n",
        "        negative = Image.fromarray(negative.numpy(), mode='L')\n",
        "        anchor = self.transform(anchor)\n",
        "        positive = self.transform(positive)\n",
        "        negative = self.transform(negative)\n",
        "        return (anchor, positive, negative), []"
      ],
      "execution_count": 18,
      "outputs": []
    },
    {
      "cell_type": "code",
      "metadata": {
        "id": "Yz-LGiJN5npM"
      },
      "source": [
        "# Question 2.2, define triplet loss\n",
        "class TripletLossSiamese(nn.Module):\n",
        "\n",
        "    def __init__(self, margin):\n",
        "        super(TripletLossSiamese, self).__init__()\n",
        "        self.margin = margin\n",
        "\n",
        "    def forward(self, output_anchor, output_positive, output_negative):\n",
        "        # Use the triplet loss equation mentioned above to define the loss\n",
        "        #### YOUR CODE STARTS HERE ####\n",
        "        loss_value = F.relu( self.margin +((output_anchor - output_positive)**2).sum(1) - ((output_anchor - output_negative)**2).sum(1) )\n",
        "        #### YOUR CODE ENDS HERE ####\n",
        "        loss_value = loss_value.mean()\n",
        "\n",
        "        return loss_value"
      ],
      "execution_count": 20,
      "outputs": []
    },
    {
      "cell_type": "code",
      "metadata": {
        "id": "6oMYipiIYlPp"
      },
      "source": [
        "class TripletNetwork(nn.Module):\n",
        "    def __init__(self, embedding_net):\n",
        "        super(TripletNetwork, self).__init__()\n",
        "        self.embedding_net = embedding_net\n",
        "\n",
        "    def forward(self, x1, x2, x3):\n",
        "        output1 = self.embedding_net(x1)\n",
        "        output2 = self.embedding_net(x2)\n",
        "        output3 = self.embedding_net(x3)\n",
        "        return output1, output2, output3\n",
        "\n",
        "    def get_embedding(self, x):\n",
        "        return self.embedding_net(x)"
      ],
      "execution_count": 19,
      "outputs": []
    },
    {
      "cell_type": "markdown",
      "metadata": {
        "id": "TK6iV8bovARQ"
      },
      "source": [
        "# 2.3 The changes in network will be:-\n",
        "# Now instead of two images our network will have 3 input images as anchor image, positive image(having same lable as anchor image), and negative image(having different lable than anchor image). Now vector embeddings will be learnt for these 3 images. Now these embeddings will be use to find the ecludian distance from Anchor image to positive image and also anchor image to negative image.\n",
        "# the ecludian distance from embeddings of anchor to positive sample should be less than that of anchor to negative sample fro loss to be zero.\n",
        "\n",
        "# the only change in network will be taking 3 input images ang getting 3 embeddings instead of 2 in siamese loss calculation"
      ]
    },
    {
      "cell_type": "code",
      "metadata": {
        "id": "IJ-vzS4yYNFf"
      },
      "source": [
        "train_dataset = TripletDataset()\n",
        "test_dataset = TripletDataset(train=False)\n",
        "\n",
        "# create dataloaders for training and test datasets\n",
        "# use a batch size of 128 and set shuffle=True for the training set, set num_workers to 2 and pin_memory to True\n",
        "train_dataloader = torch.utils.data.DataLoader(train_dataset, batch_size=128, shuffle=True,num_workers=2,pin_memory=True)\n",
        "test_dataloader = torch.utils.data.DataLoader(test_dataset, batch_size=128, shuffle=False, num_workers=2,pin_memory=True)\n",
        "\n",
        "margin = 1.\n",
        "# create a instance of the embedding network and pass it as input to Siamese network\n",
        "embedding_net = EmbeddingNet().to(device)\n",
        "model = TripletNetwork(embedding_net).to(device)\n",
        "# define the contrative loss with the specified margin\n",
        "criterion = TripletLossSiamese(margin)\n",
        "optimizer = optim.Adam(model.parameters(), lr=0.01)"
      ],
      "execution_count": 21,
      "outputs": []
    },
    {
      "cell_type": "code",
      "metadata": {
        "id": "vDTWRG2nce34"
      },
      "source": [
        "def train(model, train_loader, device, optimizer, criterion, epoch):\n",
        "    model.train()\n",
        "    losses = []\n",
        "    total_loss = 0\n",
        "\n",
        "    for batch_idx, (data, target) in enumerate(train_loader):\n",
        "        #### YOUR CODE STARTS HERE ####\n",
        "        # send the image, target to the device\n",
        "        # data is not a single value here,\n",
        "        # ensure datatype of variable `data` is tuple\n",
        "\n",
        "        if type(data) != tuple:\n",
        "          data = tuple(data)\n",
        "        data = tuple(i.to(device) for i in data)\n",
        "        \n",
        "\n",
        "        # flush out the gradients stored in optimizer\n",
        "        optimizer.zero_grad()\n",
        "\n",
        "        # pass the image to the model and assign the output to variable named outputs\n",
        "        # python star operator will be useful here\n",
        "        # if the datatype of outputs is not a tuple, make it to a tuple\n",
        "\n",
        "        outputs = model(*data)\n",
        "\n",
        "        if type(outputs) != tuple:\n",
        "          outputs = tuple(outputs)\n",
        "        \n",
        "        # print(type(data),type(outputs),type(target))\n",
        "\n",
        "        # create inputs to the contrastive loss (datatype should be tuple)\n",
        "        # calculate the loss using criterion \n",
        "        \n",
        "        loss = criterion(*outputs)\n",
        "\n",
        "        # append the loss to losses list and update the total_loss variable\n",
        "\n",
        "        losses.append(loss.item())\n",
        "        total_loss += loss.item()\n",
        "\n",
        "        # do a backward pass\n",
        "        loss.backward()\n",
        "\n",
        "        # update the weights\n",
        "        optimizer.step()\n",
        "\n",
        "        #### YOUR CODE ENDS HERE ####\n",
        "\n",
        "        if batch_idx % 20 == 0:\n",
        "            print('Train Epoch: {} [{}/{} ({:.0f}%)]\\tLoss: {:.6f}'.format(\n",
        "                epoch, batch_idx * len(data[0]), len(train_loader.dataset),\n",
        "                100. * batch_idx / len(train_loader), np.mean(losses)))  \n",
        "    total_loss /= (batch_idx + 1)\n",
        "    print('Average loss on training set: {:.6f}'.format(total_loss))\n",
        "    return total_loss\n",
        "\n",
        "def test(model, test_loader, device, criterion):\n",
        "    model.eval()\n",
        "    test_loss = 0\n",
        "    with torch.no_grad():\n",
        "        for batch_idx, (data,target) in enumerate(test_loader):\n",
        "            #### YOUR CODE STARTS HERE ####\n",
        "            # send the image, target to the device\n",
        "            # data is not a single value here,\n",
        "            # ensure datatype of variable `data` is tuple\n",
        "\n",
        "            if type(data) != tuple:\n",
        "              data = tuple(data)\n",
        "            data = tuple(i.to(device) for i in data)\n",
        "            \n",
        "            \n",
        "            # pass the image to the model and assign the output to variable named outputs\n",
        "            # python star operator will be useful here\n",
        "            # if the datatype of outputs is not a tuple, make it to a tuple\n",
        "\n",
        "            outputs = model(*data)\n",
        "\n",
        "            if type(outputs) != tuple:\n",
        "              outputs = tuple(outputs)\n",
        "            \n",
        "            # create inputs to the contrastive loss\n",
        "            # datatype of target should be tuple\n",
        "            # calculate the loss\n",
        "\n",
        "            loss = criterion(*outputs)\n",
        "            loss = loss[0] if type(loss) in (tuple, list) else loss\n",
        "\n",
        "            # update the test_loss variable\n",
        "\n",
        "            test_loss += loss.item()\n",
        "            \n",
        "            #### YOUR CODE ENDS HERE ####\n",
        "\n",
        "    test_loss /= len(test_loader)\n",
        "    print('Average loss on test set: {:.6f}'.format(test_loss))\n",
        "    return test_loss\n"
      ],
      "execution_count": 22,
      "outputs": []
    },
    {
      "cell_type": "code",
      "metadata": {
        "id": "2-Jyr5MVdsZw",
        "colab": {
          "base_uri": "https://localhost:8080/"
        },
        "outputId": "9709e4b9-bc38-4c3f-975b-88f21f857284"
      },
      "source": [
        "start = timeit.default_timer()\n",
        "train_loss = []\n",
        "test_loss = []\n",
        "for epoch in range(1, 5):\n",
        "    trn = train(model, train_dataloader, device, optimizer, criterion, epoch) ; train_loss.append(trn)\n",
        "    tst = test(model, test_dataloader, device, criterion) ; test_loss.append(tst)\n",
        "\n",
        "stop = timeit.default_timer()\n",
        "print('Total time taken: {} seconds'.format(int(stop - start)) )"
      ],
      "execution_count": 23,
      "outputs": [
        {
          "output_type": "stream",
          "text": [
            "Train Epoch: 1 [0/60000 (0%)]\tLoss: 0.999954\n",
            "Train Epoch: 1 [2560/60000 (4%)]\tLoss: 0.746495\n",
            "Train Epoch: 1 [5120/60000 (9%)]\tLoss: 0.622130\n",
            "Train Epoch: 1 [7680/60000 (13%)]\tLoss: 0.534514\n",
            "Train Epoch: 1 [10240/60000 (17%)]\tLoss: 0.467976\n",
            "Train Epoch: 1 [12800/60000 (21%)]\tLoss: 0.422132\n",
            "Train Epoch: 1 [15360/60000 (26%)]\tLoss: 0.393863\n",
            "Train Epoch: 1 [17920/60000 (30%)]\tLoss: 0.370505\n",
            "Train Epoch: 1 [20480/60000 (34%)]\tLoss: 0.354366\n",
            "Train Epoch: 1 [23040/60000 (38%)]\tLoss: 0.341962\n",
            "Train Epoch: 1 [25600/60000 (43%)]\tLoss: 0.328906\n",
            "Train Epoch: 1 [28160/60000 (47%)]\tLoss: 0.316389\n",
            "Train Epoch: 1 [30720/60000 (51%)]\tLoss: 0.303938\n",
            "Train Epoch: 1 [33280/60000 (55%)]\tLoss: 0.294331\n",
            "Train Epoch: 1 [35840/60000 (60%)]\tLoss: 0.285920\n",
            "Train Epoch: 1 [38400/60000 (64%)]\tLoss: 0.280648\n",
            "Train Epoch: 1 [40960/60000 (68%)]\tLoss: 0.274169\n",
            "Train Epoch: 1 [43520/60000 (72%)]\tLoss: 0.267912\n",
            "Train Epoch: 1 [46080/60000 (77%)]\tLoss: 0.261661\n",
            "Train Epoch: 1 [48640/60000 (81%)]\tLoss: 0.257698\n",
            "Train Epoch: 1 [51200/60000 (85%)]\tLoss: 0.253786\n",
            "Train Epoch: 1 [53760/60000 (90%)]\tLoss: 0.248349\n",
            "Train Epoch: 1 [56320/60000 (94%)]\tLoss: 0.245265\n",
            "Train Epoch: 1 [58880/60000 (98%)]\tLoss: 0.242543\n",
            "Average loss on training set: 0.241402\n",
            "Average loss on test set: 0.148921\n",
            "Train Epoch: 2 [0/60000 (0%)]\tLoss: 0.156849\n",
            "Train Epoch: 2 [2560/60000 (4%)]\tLoss: 0.141426\n",
            "Train Epoch: 2 [5120/60000 (9%)]\tLoss: 0.151713\n",
            "Train Epoch: 2 [7680/60000 (13%)]\tLoss: 0.161197\n",
            "Train Epoch: 2 [10240/60000 (17%)]\tLoss: 0.160671\n",
            "Train Epoch: 2 [12800/60000 (21%)]\tLoss: 0.160531\n",
            "Train Epoch: 2 [15360/60000 (26%)]\tLoss: 0.157977\n",
            "Train Epoch: 2 [17920/60000 (30%)]\tLoss: 0.156413\n",
            "Train Epoch: 2 [20480/60000 (34%)]\tLoss: 0.156836\n",
            "Train Epoch: 2 [23040/60000 (38%)]\tLoss: 0.159138\n",
            "Train Epoch: 2 [25600/60000 (43%)]\tLoss: 0.159047\n",
            "Train Epoch: 2 [28160/60000 (47%)]\tLoss: 0.156833\n",
            "Train Epoch: 2 [30720/60000 (51%)]\tLoss: 0.155093\n",
            "Train Epoch: 2 [33280/60000 (55%)]\tLoss: 0.153240\n",
            "Train Epoch: 2 [35840/60000 (60%)]\tLoss: 0.151634\n",
            "Train Epoch: 2 [38400/60000 (64%)]\tLoss: 0.149899\n",
            "Train Epoch: 2 [40960/60000 (68%)]\tLoss: 0.150014\n",
            "Train Epoch: 2 [43520/60000 (72%)]\tLoss: 0.149787\n",
            "Train Epoch: 2 [46080/60000 (77%)]\tLoss: 0.149016\n",
            "Train Epoch: 2 [48640/60000 (81%)]\tLoss: 0.147104\n",
            "Train Epoch: 2 [51200/60000 (85%)]\tLoss: 0.145239\n",
            "Train Epoch: 2 [53760/60000 (90%)]\tLoss: 0.143763\n",
            "Train Epoch: 2 [56320/60000 (94%)]\tLoss: 0.142601\n",
            "Train Epoch: 2 [58880/60000 (98%)]\tLoss: 0.142063\n",
            "Average loss on training set: 0.141608\n",
            "Average loss on test set: 0.136690\n",
            "Train Epoch: 3 [0/60000 (0%)]\tLoss: 0.253017\n",
            "Train Epoch: 3 [2560/60000 (4%)]\tLoss: 0.126957\n",
            "Train Epoch: 3 [5120/60000 (9%)]\tLoss: 0.104882\n",
            "Train Epoch: 3 [7680/60000 (13%)]\tLoss: 0.111098\n",
            "Train Epoch: 3 [10240/60000 (17%)]\tLoss: 0.108993\n",
            "Train Epoch: 3 [12800/60000 (21%)]\tLoss: 0.105958\n",
            "Train Epoch: 3 [15360/60000 (26%)]\tLoss: 0.105071\n",
            "Train Epoch: 3 [17920/60000 (30%)]\tLoss: 0.106768\n",
            "Train Epoch: 3 [20480/60000 (34%)]\tLoss: 0.109835\n",
            "Train Epoch: 3 [23040/60000 (38%)]\tLoss: 0.111262\n",
            "Train Epoch: 3 [25600/60000 (43%)]\tLoss: 0.109867\n",
            "Train Epoch: 3 [28160/60000 (47%)]\tLoss: 0.107648\n",
            "Train Epoch: 3 [30720/60000 (51%)]\tLoss: 0.106116\n",
            "Train Epoch: 3 [33280/60000 (55%)]\tLoss: 0.105977\n",
            "Train Epoch: 3 [35840/60000 (60%)]\tLoss: 0.104730\n",
            "Train Epoch: 3 [38400/60000 (64%)]\tLoss: 0.106703\n",
            "Train Epoch: 3 [40960/60000 (68%)]\tLoss: 0.107251\n",
            "Train Epoch: 3 [43520/60000 (72%)]\tLoss: 0.106791\n",
            "Train Epoch: 3 [46080/60000 (77%)]\tLoss: 0.107133\n",
            "Train Epoch: 3 [48640/60000 (81%)]\tLoss: 0.106831\n",
            "Train Epoch: 3 [51200/60000 (85%)]\tLoss: 0.106679\n",
            "Train Epoch: 3 [53760/60000 (90%)]\tLoss: 0.106542\n",
            "Train Epoch: 3 [56320/60000 (94%)]\tLoss: 0.106945\n",
            "Train Epoch: 3 [58880/60000 (98%)]\tLoss: 0.106549\n",
            "Average loss on training set: 0.106760\n",
            "Average loss on test set: 0.089611\n",
            "Train Epoch: 4 [0/60000 (0%)]\tLoss: 0.098693\n",
            "Train Epoch: 4 [2560/60000 (4%)]\tLoss: 0.093038\n",
            "Train Epoch: 4 [5120/60000 (9%)]\tLoss: 0.088749\n",
            "Train Epoch: 4 [7680/60000 (13%)]\tLoss: 0.087309\n",
            "Train Epoch: 4 [10240/60000 (17%)]\tLoss: 0.091158\n",
            "Train Epoch: 4 [12800/60000 (21%)]\tLoss: 0.095189\n",
            "Train Epoch: 4 [15360/60000 (26%)]\tLoss: 0.099208\n",
            "Train Epoch: 4 [17920/60000 (30%)]\tLoss: 0.101105\n",
            "Train Epoch: 4 [20480/60000 (34%)]\tLoss: 0.100889\n",
            "Train Epoch: 4 [23040/60000 (38%)]\tLoss: 0.101799\n",
            "Train Epoch: 4 [25600/60000 (43%)]\tLoss: 0.102139\n",
            "Train Epoch: 4 [28160/60000 (47%)]\tLoss: 0.103046\n",
            "Train Epoch: 4 [30720/60000 (51%)]\tLoss: 0.101578\n",
            "Train Epoch: 4 [33280/60000 (55%)]\tLoss: 0.100154\n",
            "Train Epoch: 4 [35840/60000 (60%)]\tLoss: 0.098661\n",
            "Train Epoch: 4 [38400/60000 (64%)]\tLoss: 0.098054\n",
            "Train Epoch: 4 [40960/60000 (68%)]\tLoss: 0.097920\n",
            "Train Epoch: 4 [43520/60000 (72%)]\tLoss: 0.098060\n",
            "Train Epoch: 4 [46080/60000 (77%)]\tLoss: 0.097079\n",
            "Train Epoch: 4 [48640/60000 (81%)]\tLoss: 0.097172\n",
            "Train Epoch: 4 [51200/60000 (85%)]\tLoss: 0.097747\n",
            "Train Epoch: 4 [53760/60000 (90%)]\tLoss: 0.097654\n",
            "Train Epoch: 4 [56320/60000 (94%)]\tLoss: 0.096618\n",
            "Train Epoch: 4 [58880/60000 (98%)]\tLoss: 0.096240\n",
            "Average loss on training set: 0.095743\n",
            "Average loss on test set: 0.073762\n",
            "Total time taken: 448 seconds\n"
          ],
          "name": "stdout"
        }
      ]
    },
    {
      "cell_type": "code",
      "metadata": {
        "colab": {
          "base_uri": "https://localhost:8080/",
          "height": 279
        },
        "id": "uUaGFJluYNeM",
        "outputId": "b5512414-caf4-497c-b2bb-6faebc56137a"
      },
      "source": [
        "plt.plot(train_loss, label = 'Train Loss')\n",
        "plt.plot(test_loss, label = 'Test Loss' )\n",
        "plt.xlabel(\"epoch\")\n",
        "plt.ylabel(\"loss\")\n",
        "plt.legend([\"Train Loss\", \"Test Loss\"], loc =\"upper right\")\n",
        "plt.show()"
      ],
      "execution_count": 24,
      "outputs": [
        {
          "output_type": "display_data",
          "data": {
            "image/png": "[encoded data removed]",
            "text/plain": [
              "<Figure size 432x288 with 1 Axes>"
            ]
          },
          "metadata": {
            "tags": [],
            "needs_background": "light"
          }
        }
      ]
    },
    {
      "cell_type": "markdown",
      "metadata": {
        "id": "6oP275cQFPvA"
      },
      "source": [
        "## Object Detection\n",
        "\n",
        "Go through the [Torchvision Object Detection Tutorial](https://pytorch.org/tutorials/intermediate/torchvision_tutorial.html) and ensure you understand the tutorial completely!\n",
        "\n",
        "After you have completely gone through the tutorial answer the following questions!"
      ]
    },
    {
      "cell_type": "markdown",
      "metadata": {
        "id": "LtaG0iORIXid"
      },
      "source": [
        "### Question 6\n",
        "\n",
        "Consider the metrics `AP@IoU=0.5` and `AP@IoU=0.75` used in the tutorial. Which of the following statements is True?  \n",
        "\n",
        "1. `IoU@0.75` will always be less than `IoU@0.5`\n",
        "2. `IoU@0.75` will always be  greater than `IoU@0.5` \n",
        "3. `IoU@0.75` need not be always be less than `IoU@0.5`\n",
        "4. `IoU@0.75` need not always be  greater than `IoU@0.5` "
      ]
    },
    {
      "cell_type": "markdown",
      "metadata": {
        "id": "4SyWcXI0m1us"
      },
      "source": [
        "# **Answer to question 6**\n",
        "# the true statement is **IoU@0.75 will always be less than IoU@0.5**"
      ]
    },
    {
      "cell_type": "markdown",
      "metadata": {
        "id": "n9yyqsuyPAMv"
      },
      "source": [
        "### Question 7\n",
        "\n",
        "Tutorial uses a network that is pre-trained on COCO dataset. Will training this model from scratch improve the performance? Provide justification for your answer. (Hint: You don't really have to re-train the model for this)"
      ]
    },
    {
      "cell_type": "markdown",
      "metadata": {
        "id": "Nw12zb7ho7Bo"
      },
      "source": [
        "# **Answer to question 7**\n",
        "# PennFudan dataset is a very small dataset. so if we try to train model from scratch with little data, it will lead to poor approximation and the performance will be degraded.\n",
        "# The justification here is that a over constrained model will underfit the small training data. where else under constrained model will overfit the training data. none of them giving good results of weights learned in neural network."
      ]
    },
    {
      "cell_type": "markdown",
      "metadata": {
        "id": "71DVEZQf5hr8"
      },
      "source": [
        "### Question 8\n",
        "\n",
        "Write code to calculate IoU between aligned predicted bounding-boxes bbox_p and ground-truth bounding-boxes bbox_gt. Assume a co-ordinate system that has origin (0,0) at the upper-left corner of the image, and to the  right and down are +ve directions of x-axis and y-axis respectively."
      ]
    },
    {
      "cell_type": "code",
      "metadata": {
        "id": "rngaSEln5npN"
      },
      "source": [
        "def calculate_iou(bbox_p, bbox_gt):\n",
        "    #input: bbox_p and bbox_gt are (N,4) tensors\n",
        "    #output: ious (N,) vector\n",
        "    N = bbox_p.size(0)\n",
        "    \n",
        "    #### YOUR CODE STARTS HERE ####\n",
        "    # write code to compute the IoU between the bounding boxes\n",
        "    ious = np.zeros((N))\n",
        "    for i in range(N):\n",
        "      x1_p =bbox_p[i][0]\n",
        "      y1_p =bbox_p[i][1]\n",
        "      x2_p  =bbox_p[i][2]\n",
        "      y2_p  =bbox_p[i][3]\n",
        "\n",
        "      x1_gt =bbox_gt[i][0]\n",
        "      y1_gt =bbox_gt[i][1]\n",
        "      x2_gt  =bbox_gt[i][2]\n",
        "      y2_gt  =bbox_gt[i][3]\n",
        "\n",
        "      if x1_p > x2_gt or x1_gt > x2_p or y1_p > y2_gt or y1_gt > y2_p: #No Overlap Condition\n",
        "        ious[i]=0.0\n",
        "        continue  \n",
        "      \n",
        "      x1 = max(x1_p , x1_gt)\n",
        "      y1 = max(y1_p , y1_gt)\n",
        "      x2 = min(x2_p , x2_gt) \n",
        "      y2 = min(y2_p , y2_gt) \n",
        "\n",
        "\n",
        "      intersection = (x2-x1)*(y2-y1)\n",
        "      union = (x2_p-x1_p)*(y2_p-y1_p) + (x2_gt-x1_gt)*(y2_gt-y1_gt) -intersection\n",
        "\n",
        "      if union ==0:\n",
        "        union = 1e-3\n",
        "\n",
        "      ious[i] = intersection/union\n",
        "\n",
        "    #### YOUR CODE ENDS HERE ####\n",
        "    \n",
        "    return ious"
      ],
      "execution_count": 25,
      "outputs": []
    },
    {
      "cell_type": "markdown",
      "metadata": {
        "id": "jR10OiXy6SkR"
      },
      "source": [
        ""
      ]
    },
    {
      "cell_type": "code",
      "metadata": {
        "id": "AgkASwjFpcUT",
        "colab": {
          "base_uri": "https://localhost:8080/"
        },
        "outputId": "76d062df-bd49-46d4-d777-3d8ff0a256bf"
      },
      "source": [
        "bbox_p = torch.tensor([[50, 50, 90, 100],\n",
        "                     [70, 80, 120, 150]])\n",
        "bbox_gt = torch.tensor([[70, 80, 120, 150],\n",
        "                   [50, 50, 90, 100]])\n",
        "N = bbox_p.size(0)\n",
        "print(N)"
      ],
      "execution_count": 26,
      "outputs": [
        {
          "output_type": "stream",
          "text": [
            "2\n"
          ],
          "name": "stdout"
        }
      ]
    },
    {
      "cell_type": "code",
      "metadata": {
        "id": "tBQwXyrJpjWR",
        "colab": {
          "base_uri": "https://localhost:8080/"
        },
        "outputId": "6a206999-7e7c-43e1-9337-9926fa549cab"
      },
      "source": [
        "ious = calculate_iou(bbox_p,bbox_gt)\n",
        "print(ious , ious.shape)"
      ],
      "execution_count": 27,
      "outputs": [
        {
          "output_type": "stream",
          "text": [
            "[0.07843138 0.07843138] (2,)\n"
          ],
          "name": "stdout"
        }
      ]
    },
    {
      "cell_type": "code",
      "metadata": {
        "id": "ecKVcnFXAgtY"
      },
      "source": [
        ""
      ],
      "execution_count": 27,
      "outputs": []
    },
    {
      "cell_type": "code",
      "metadata": {
        "id": "Ewzb4bfYwaqn"
      },
      "source": [
        ""
      ],
      "execution_count": 27,
      "outputs": []
    },
    {
      "cell_type": "code",
      "metadata": {
        "id": "UNDdmNEUmjkT"
      },
      "source": [
        ""
      ],
      "execution_count": null,
      "outputs": []
    }
  ]
}
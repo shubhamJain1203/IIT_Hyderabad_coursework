{
 "cells": [
  {
   "cell_type": "markdown",
   "metadata": {},
   "source": [
    "# 1. Read the student details (5 Marks)\n",
    "\n",
    "- Read the student details from student.csv file into a pandas dataframe\n",
    "- Print the first three entries of the pandas dataframe"
   ]
  },
  {
   "cell_type": "code",
   "execution_count": 1,
   "metadata": {},
   "outputs": [],
   "source": [
    "import pandas as pd"
   ]
  },
  {
   "cell_type": "code",
   "execution_count": 2,
   "metadata": {},
   "outputs": [
    {
     "data": {
      "text/html": [
       "<div>\n",
       "<style scoped>\n",
       "    .dataframe tbody tr th:only-of-type {\n",
       "        vertical-align: middle;\n",
       "    }\n",
       "\n",
       "    .dataframe tbody tr th {\n",
       "        vertical-align: top;\n",
       "    }\n",
       "\n",
       "    .dataframe thead th {\n",
       "        text-align: right;\n",
       "    }\n",
       "</style>\n",
       "<table border=\"1\" class=\"dataframe\">\n",
       "  <thead>\n",
       "    <tr style=\"text-align: right;\">\n",
       "      <th></th>\n",
       "      <th>name</th>\n",
       "      <th>roll</th>\n",
       "      <th>english</th>\n",
       "      <th>maths</th>\n",
       "      <th>science</th>\n",
       "    </tr>\n",
       "  </thead>\n",
       "  <tbody>\n",
       "    <tr>\n",
       "      <th>0</th>\n",
       "      <td>Ajay</td>\n",
       "      <td>1</td>\n",
       "      <td>14</td>\n",
       "      <td>16</td>\n",
       "      <td>2</td>\n",
       "    </tr>\n",
       "    <tr>\n",
       "      <th>1</th>\n",
       "      <td>Arun</td>\n",
       "      <td>2</td>\n",
       "      <td>85</td>\n",
       "      <td>79</td>\n",
       "      <td>20</td>\n",
       "    </tr>\n",
       "    <tr>\n",
       "      <th>2</th>\n",
       "      <td>Badal</td>\n",
       "      <td>3</td>\n",
       "      <td>14</td>\n",
       "      <td>73</td>\n",
       "      <td>57</td>\n",
       "    </tr>\n",
       "  </tbody>\n",
       "</table>\n",
       "</div>"
      ],
      "text/plain": [
       "    name  roll  english  maths  science\n",
       "0   Ajay     1       14     16        2\n",
       "1   Arun     2       85     79       20\n",
       "2  Badal     3       14     73       57"
      ]
     },
     "execution_count": 2,
     "metadata": {},
     "output_type": "execute_result"
    }
   ],
   "source": [
    "student_data = pd.read_csv(\"student.csv\")\n",
    "student_data.head(3)"
   ]
  },
  {
   "cell_type": "markdown",
   "metadata": {},
   "source": [
    "# 2. Create a class Student with the following details (15 Marks)\n",
    "\n",
    "- Class Attributes\n",
    "    - Name\n",
    "    - Roll Number\n",
    "    - Dictionary of marks. Stores the marks of three subjects (English, Maths and Science) in a python dictionary. Sample of marks :- {'eng':80, 'math':100, 'science':90}\n",
    "    - Average marks\n",
    "\n",
    "- Class Methods\n",
    "    - Constructor __init__() : initialzes the student attributes\n",
    "    - setAverage() : sets the average marks of a student\n",
    "    - getName() : returns the name of the student\n",
    "    - getRoll() : returns the name of the roll number of the student\n",
    "    - getMarks() : returns the marks dictionary of the student\n",
    "    - getAverage() : returns the average marks of the student\n",
    "    - printDetails() : prints the student details"
   ]
  },
  {
   "cell_type": "code",
   "execution_count": 36,
   "metadata": {},
   "outputs": [],
   "source": [
    "#Complete the implementaton3ass \n",
    "\n",
    "class Student():\n",
    "    name = None\n",
    "    roll = None\n",
    "    marks = {}\n",
    "    average_marks = 0\n",
    "    \n",
    "    #Constructor\n",
    "    def __init__(self, data):\n",
    "        self.name = data['name']\n",
    "        self.roll = data['roll']\n",
    "        self.marks = {'eng' : ( data['english'])  ,'math':(data['maths']) ,\n",
    "                      'science': ( data['science']) }\n",
    "        summission = 0 \n",
    "        for i in self.marks: \n",
    "            summission = summission + self.marks[i] \n",
    "        self.average_marks = summission/len(self.marks)\n",
    "        #Set name, marks and marks using data. \n",
    "        #Assume data to be a python list containing all the information sequentially as in student.csv file.\n",
    "        #Set average_marks by calling setAverage()\n",
    "\n",
    "    #Computes average marks\n",
    "    def setAverage(self):\n",
    "        \n",
    "        return self.average_marks\n",
    "    \n",
    "    #Returns the name of the sudent\n",
    "    def getName(self):\n",
    "        print(self.name)\n",
    "        return self.name\n",
    "    \n",
    "    #Returns the roll number of the sudent\n",
    "    def getRoll(self):\n",
    "        return self.roll\n",
    "    \n",
    "    #Returns the marks dictionary of the sudent\n",
    "    def getMarks(self):\n",
    "        return self.marks\n",
    "    \n",
    "    #Returns the average marks of the sudent\n",
    "    def getAverage(self):\n",
    "        return self.average_marks\n",
    "        #return ...\n",
    "        \n",
    "    #Prints the student details\n",
    "    #def printDetails(self):\n",
    "        \n",
    "        #Printing format is up to you"
   ]
  },
  {
   "cell_type": "markdown",
   "metadata": {},
   "source": [
    "# 3. Create a list of Student object (10 Marks)\n",
    "\n",
    "- For each entry of the loaded data (in Question 1), create a object of Student class (created in Question 2).\n",
    "- Store the objects in a python list named student_info"
   ]
  },
  {
   "cell_type": "code",
   "execution_count": 38,
   "metadata": {},
   "outputs": [
    {
     "name": "stdout",
     "output_type": "stream",
     "text": [
      "0     10.666667\n",
      "1     61.333333\n",
      "2     48.000000\n",
      "3     78.333333\n",
      "4     53.666667\n",
      "5     33.000000\n",
      "6     41.333333\n",
      "7     48.666667\n",
      "8     73.000000\n",
      "9     81.666667\n",
      "10    31.666667\n",
      "11    47.000000\n",
      "12    74.333333\n",
      "13    82.333333\n",
      "14    43.666667\n",
      "15    62.000000\n",
      "16    11.000000\n",
      "17    65.666667\n",
      "18    49.666667\n",
      "19    62.000000\n",
      "20    56.333333\n",
      "21    61.333333\n",
      "22    26.000000\n",
      "23    54.333333\n",
      "24    41.666667\n",
      "25    60.333333\n",
      "26    46.666667\n",
      "27    60.666667\n",
      "28    38.333333\n",
      "29    63.000000\n",
      "dtype: float64\n"
     ]
    }
   ],
   "source": [
    "class_10th = Student(student_data)\n",
    "#student_info = []\n",
    "a = class_10th.getAverage()\n",
    "print(a)"
   ]
  },
  {
   "cell_type": "markdown",
   "metadata": {},
   "source": [
    "# 4. Print the highest mark in Maths (2 Marks)"
   ]
  },
  {
   "cell_type": "code",
   "execution_count": 7,
   "metadata": {},
   "outputs": [
    {
     "data": {
      "text/plain": [
       "98"
      ]
     },
     "execution_count": 7,
     "metadata": {},
     "output_type": "execute_result"
    }
   ],
   "source": [
    "student_data['maths'].max()"
   ]
  },
  {
   "cell_type": "markdown",
   "metadata": {},
   "source": [
    "# 5. Print the lowest mark in English along with the name of the student/students who obtained it (3 Marks)"
   ]
  },
  {
   "cell_type": "code",
   "execution_count": 8,
   "metadata": {},
   "outputs": [
    {
     "data": {
      "text/plain": [
       "14"
      ]
     },
     "execution_count": 8,
     "metadata": {},
     "output_type": "execute_result"
    }
   ],
   "source": [
    "student_data['english'].min()"
   ]
  },
  {
   "cell_type": "markdown",
   "metadata": {},
   "source": [
    "# 6. Print the list of students (only name) who scored strictly greater than the class average in Science  (5 Marks)"
   ]
  },
  {
   "cell_type": "code",
   "execution_count": 24,
   "metadata": {},
   "outputs": [],
   "source": []
  },
  {
   "cell_type": "markdown",
   "metadata": {},
   "source": [
    "# 7. Print the name of top 5 students based on average marks (10 Marks)\n",
    "\n",
    "- Sort the list of students based on average_marks\n",
    "- Print the top five entries of the sorted list. No need to check for ties."
   ]
  },
  {
   "cell_type": "code",
   "execution_count": null,
   "metadata": {},
   "outputs": [],
   "source": [
    "top5 = (student_data['maths'] & student_data['maths']"
   ]
  }
 ],
 "metadata": {
  "kernelspec": {
   "display_name": "Python 3",
   "language": "python",
   "name": "python3"
  },
  "language_info": {
   "codemirror_mode": {
    "name": "ipython",
    "version": 3
   },
   "file_extension": ".py",
   "mimetype": "text/x-python",
   "name": "python",
   "nbconvert_exporter": "python",
   "pygments_lexer": "ipython3",
   "version": "3.8.5"
  }
 },
 "nbformat": 4,
 "nbformat_minor": 2
}

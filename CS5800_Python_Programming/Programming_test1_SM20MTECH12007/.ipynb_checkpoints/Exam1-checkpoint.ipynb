{
 "cells": [
  {
   "cell_type": "markdown",
   "metadata": {},
   "source": [
    "# 1. Read the student details (5 Marks)\n",
    "\n",
    "- Read the student details from student.csv file into a pandas dataframe\n",
    "- Print the first three entries of the pandas dataframe"
   ]
  },
  {
   "cell_type": "code",
   "execution_count": 25,
   "metadata": {},
   "outputs": [],
   "source": [
    "#Your code"
   ]
  },
  {
   "cell_type": "markdown",
   "metadata": {},
   "source": [
    "# 2. Create a class Student with the following details (15 Marks)\n",
    "\n",
    "- Class Attributes\n",
    "    - Name\n",
    "    - Roll Number\n",
    "    - Dictionary of marks. Stores the marks of three subjects (English, Maths and Science) in a python dictionary. Sample of marks :- {'eng':80, 'math':100, 'science':90}\n",
    "    - Average marks\n",
    "\n",
    "- Class Methods\n",
    "    - Constructor __init__() : initialzes the student attributes\n",
    "    - setAverage() : sets the average marks of a student\n",
    "    - getName() : returns the name of the student\n",
    "    - getRoll() : returns the name of the roll number of the student\n",
    "    - getMarks() : returns the marks dictionary of the student\n",
    "    - getAverage() : returns the average marks of the student\n",
    "    - printDetails() : prints the student details"
   ]
  },
  {
   "cell_type": "code",
   "execution_count": null,
   "metadata": {},
   "outputs": [],
   "source": [
    "#Complete the implementation of Student class \n",
    "\n",
    "class Student():\n",
    "    name = None\n",
    "    roll = None\n",
    "    marks = {}\n",
    "    average_marks = 0\n",
    "    \n",
    "    #Constructor\n",
    "    def __init__(self, data):\n",
    "        self.name = data['name']\n",
    "        self.roll = roll\n",
    "        #Set name, marks and marks using data. \n",
    "        #Assume data to be a python list containing all the information sequentially as in student.csv file.\n",
    "        #Set average_marks by calling setAverage()\n",
    "\n",
    "    #Computes average marks\n",
    "    def setAverage(self):\n",
    "        #Set self.average_marks using self.marks\n",
    "    \n",
    "    #Returns the name of the sudent\n",
    "    def getName(self):\n",
    "        #return ...\n",
    "    \n",
    "    #Returns the roll number of the sudent\n",
    "    def getRoll(self):\n",
    "        #return ...\n",
    "    \n",
    "    #Returns the marks dictionary of the sudent\n",
    "    def getMarks(self):\n",
    "        #return ...\n",
    "    \n",
    "    #Returns the average marks of the sudent\n",
    "    def getAverage(self):\n",
    "        #return ...\n",
    "        \n",
    "    #Prints the student details\n",
    "    def printDetails(self):\n",
    "        #Printing format is up to you"
   ]
  },
  {
   "cell_type": "markdown",
   "metadata": {},
   "source": [
    "# 3. Create a list of Student object (10 Marks)\n",
    "\n",
    "- For each entry of the loaded data (in Question 1), create a object of Student class (created in Question 2).\n",
    "- Store the objects in a python list named student_info"
   ]
  },
  {
   "cell_type": "code",
   "execution_count": 21,
   "metadata": {},
   "outputs": [],
   "source": [
    "student_info = []"
   ]
  },
  {
   "cell_type": "markdown",
   "metadata": {},
   "source": [
    "# 4. Print the highest mark in Maths (2 Marks)"
   ]
  },
  {
   "cell_type": "code",
   "execution_count": 22,
   "metadata": {},
   "outputs": [],
   "source": [
    "#Your code"
   ]
  },
  {
   "cell_type": "markdown",
   "metadata": {},
   "source": [
    "# 5. Print the lowest mark in English along with the name of the student/students who obtained it (3 Marks)"
   ]
  },
  {
   "cell_type": "code",
   "execution_count": 23,
   "metadata": {},
   "outputs": [],
   "source": [
    "#Your code"
   ]
  },
  {
   "cell_type": "markdown",
   "metadata": {},
   "source": [
    "# 6. Print the list of students (only name) who scored strictly greater than the class average in Science  (5 Marks)"
   ]
  },
  {
   "cell_type": "code",
   "execution_count": 24,
   "metadata": {},
   "outputs": [],
   "source": [
    "#Your code"
   ]
  },
  {
   "cell_type": "markdown",
   "metadata": {},
   "source": [
    "# 7. Print the name of top 5 students based on average marks (10 Marks)\n",
    "\n",
    "- Sort the list of students based on average_marks\n",
    "- Print the top five entries of the sorted list. No need to check for ties."
   ]
  },
  {
   "cell_type": "code",
   "execution_count": null,
   "metadata": {},
   "outputs": [],
   "source": [
    "#Your code"
   ]
  }
 ],
 "metadata": {
  "kernelspec": {
   "display_name": "Python 3",
   "language": "python",
   "name": "python3"
  },
  "language_info": {
   "codemirror_mode": {
    "name": "ipython",
    "version": 3
   },
   "file_extension": ".py",
   "mimetype": "text/x-python",
   "name": "python",
   "nbconvert_exporter": "python",
   "pygments_lexer": "ipython3",
   "version": "3.8.5"
  }
 },
 "nbformat": 4,
 "nbformat_minor": 2
}

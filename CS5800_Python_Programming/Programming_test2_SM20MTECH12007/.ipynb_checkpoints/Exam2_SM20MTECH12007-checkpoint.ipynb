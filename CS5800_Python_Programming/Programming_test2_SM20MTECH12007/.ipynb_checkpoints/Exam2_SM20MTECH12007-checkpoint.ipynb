{
 "cells": [
  {
   "cell_type": "markdown",
   "metadata": {
    "id": "wjA-6x7uPXOl"
   },
   "source": [
    "# Exam 2\n",
    "* **Duration**: 90 mins\n",
    "* **Start**: 14:30\n",
    "* **End**: 16:00\n",
    "* **Marks**: 50\n",
    "* **Partial Marks**: Yes\n",
    "\n",
    "**NOTE**: Plagarism checks will be followed strictly"
   ]
  },
  {
   "cell_type": "markdown",
   "metadata": {
    "id": "46wLVo1Dfj9Y"
   },
   "source": [
    "# 1. Read the Real Estate data (2 Marks)\n",
    "\n",
    "- Read the real_estate_data.csv file into a pandas dataframe\n",
    "- Print the first three entries of the pandas dataframe"
   ]
  },
  {
   "cell_type": "code",
   "execution_count": 1,
   "metadata": {
    "id": "Kb46pRBlfe1n"
   },
   "outputs": [],
   "source": [
    "import argparse\n",
    "import sys,os\n",
    "import numpy as np\n",
    "import pandas as pd\n",
    "import matplotlib.pyplot as plt\n",
    "from sklearn.model_selection import train_test_split, cross_val_score\n",
    "from sklearn.metrics import mean_squared_error\n"
   ]
  },
  {
   "cell_type": "code",
   "execution_count": 2,
   "metadata": {},
   "outputs": [
    {
     "data": {
      "text/html": [
       "<div>\n",
       "<style scoped>\n",
       "    .dataframe tbody tr th:only-of-type {\n",
       "        vertical-align: middle;\n",
       "    }\n",
       "\n",
       "    .dataframe tbody tr th {\n",
       "        vertical-align: top;\n",
       "    }\n",
       "\n",
       "    .dataframe thead th {\n",
       "        text-align: right;\n",
       "    }\n",
       "</style>\n",
       "<table border=\"1\" class=\"dataframe\">\n",
       "  <thead>\n",
       "    <tr style=\"text-align: right;\">\n",
       "      <th></th>\n",
       "      <th>house_age</th>\n",
       "      <th>distance_to_the_nearest_MRT</th>\n",
       "      <th>number_of_convenience_stores</th>\n",
       "      <th>latitude</th>\n",
       "      <th>longitude</th>\n",
       "      <th>house_price_of_unit_area</th>\n",
       "    </tr>\n",
       "  </thead>\n",
       "  <tbody>\n",
       "    <tr>\n",
       "      <th>0</th>\n",
       "      <td>32.0</td>\n",
       "      <td>84.87882</td>\n",
       "      <td>10.0</td>\n",
       "      <td>24.98298</td>\n",
       "      <td>121.54024</td>\n",
       "      <td>37.9</td>\n",
       "    </tr>\n",
       "    <tr>\n",
       "      <th>1</th>\n",
       "      <td>19.5</td>\n",
       "      <td>306.59470</td>\n",
       "      <td>9.0</td>\n",
       "      <td>24.98034</td>\n",
       "      <td>121.53951</td>\n",
       "      <td>42.2</td>\n",
       "    </tr>\n",
       "  </tbody>\n",
       "</table>\n",
       "</div>"
      ],
      "text/plain": [
       "   house_age  distance_to_the_nearest_MRT  number_of_convenience_stores  \\\n",
       "0       32.0                     84.87882                          10.0   \n",
       "1       19.5                    306.59470                           9.0   \n",
       "\n",
       "   latitude  longitude  house_price_of_unit_area  \n",
       "0  24.98298  121.54024                      37.9  \n",
       "1  24.98034  121.53951                      42.2  "
      ]
     },
     "execution_count": 2,
     "metadata": {},
     "output_type": "execute_result"
    }
   ],
   "source": [
    "df = pd.read_csv('real_estate_data.csv')\n",
    "df.head(2)"
   ]
  },
  {
   "cell_type": "markdown",
   "metadata": {
    "id": "G5UdV_3ohkKu"
   },
   "source": [
    "## 3. Plotting (23 marks)\n",
    "  1. Plot a bar chart for the number of convenience stores based on the frequency (4 Marks)\n",
    "  2. Plot a scatter plot between 'house_age' (X axis) and 'house_price_of_unit_area' (Y axis) (5 Marks)\n",
    "  3. Plot a scatter plot between 'house_age' (X axis) and 'distance_to_the_nearest_MRT' (Y axis) (5 Marks)\n",
    "  4. Plot a histogram of 'house_age' with choice of any bin size (5 Marks)\n",
    "  5. Write down your observations from these plots. (4 Marks)"
   ]
  },
  {
   "cell_type": "code",
   "execution_count": 3,
   "metadata": {
    "id": "C5xnerU2jPS5"
   },
   "outputs": [
    {
     "data": {
      "text/plain": [
       "<AxesSubplot:>"
      ]
     },
     "execution_count": 3,
     "metadata": {},
     "output_type": "execute_result"
    },
    {
     "data": {
      "image/png": "[encoded data removed]",
      "text/plain": [
       "<Figure size 432x288 with 1 Axes>"
      ]
     },
     "metadata": {
      "needs_background": "light"
     },
     "output_type": "display_data"
    }
   ],
   "source": [
    "#Your code for 3.1\n",
    "fig, ax = plt.subplots()\n",
    "df['number_of_convenience_stores'].value_counts().plot(ax=ax, kind='bar')"
   ]
  },
  {
   "cell_type": "code",
   "execution_count": 4,
   "metadata": {
    "id": "e_9SELDNm2lB"
   },
   "outputs": [
    {
     "data": {
      "image/png": "[encoded data removed]",
      "text/plain": [
       "<Figure size 432x288 with 1 Axes>"
      ]
     },
     "metadata": {
      "needs_background": "light"
     },
     "output_type": "display_data"
    }
   ],
   "source": [
    "#Your code for 3.2\n",
    "plt.figure()\n",
    "plt.scatter(df[\"house_age\"], df[\"house_price_of_unit_area\"])\n",
    "plt.title('house_age VS house_price_of_unit_area')\n",
    "plt.xlabel('house_age')\n",
    "plt.ylabel('house_price_of_unit_area')\n",
    "plt.show()"
   ]
  },
  {
   "cell_type": "code",
   "execution_count": 5,
   "metadata": {
    "id": "gwI9MCDym5Z2"
   },
   "outputs": [
    {
     "data": {
      "image/png": "[encoded data removed]",
      "text/plain": [
       "<Figure size 432x288 with 1 Axes>"
      ]
     },
     "metadata": {
      "needs_background": "light"
     },
     "output_type": "display_data"
    }
   ],
   "source": [
    "#Your code for 3.3\n",
    "plt.figure()\n",
    "plt.scatter(df[\"house_age\"], df[\"distance_to_the_nearest_MRT\"])\n",
    "plt.title('house_age VS distance_to_the_nearest_MRT')\n",
    "plt.xlabel('house_age')\n",
    "plt.ylabel('distance_to_the_nearest_MRT')\n",
    "plt.show()"
   ]
  },
  {
   "cell_type": "code",
   "execution_count": 6,
   "metadata": {
    "id": "G_kcqwas0NHh"
   },
   "outputs": [
    {
     "data": {
      "image/png": "[encoded data removed]",
      "text/plain": [
       "<Figure size 432x288 with 1 Axes>"
      ]
     },
     "metadata": {
      "needs_background": "light"
     },
     "output_type": "display_data"
    }
   ],
   "source": [
    "#Your code for 3.4\n",
    "x = df['house_age']\n",
    "plt.hist(x, bins = 30)\n",
    "plt.show()"
   ]
  },
  {
   "cell_type": "markdown",
   "metadata": {
    "id": "y1H3EcMTm8Df"
   },
   "source": [
    "##### Your answer for 3.5\n",
    "###### our observations from the data is \n",
    "* The house count with 0 number of convenience stores in neighbourhood is high and house count goes on decreasing with increase in number of convenience stores in neighbourhood.\n",
    "* The price per sq. feet of house decrease with increase in age of house.\n",
    "* Their is no clear relationship between house age and distance of nearest MRT\n",
    "* Most of the houses are moderately old i.e 11 years old to 18 years old, also there are good amount of newly constructed houses."
   ]
  },
  {
   "cell_type": "markdown",
   "metadata": {
    "id": "S4CWYTGpjPrW"
   },
   "source": [
    "## 4. Normalize the value of 'latitude' and 'longitude' columns (6 Marks)\n",
    "\n",
    "  1. Write a function noramlize()\n",
    "    - Input : a given column\n",
    "    - Output : Prints the mean and standard deviation of the given column and returns the normalized column\n",
    "    - Instructions:\n",
    "      - First compute mean and standard deviation of the given column. You can use numpy.mean() and numpy.std() to compute them respectively.\n",
    "      - Compute the normalized value using the following equation\n",
    "        - x_normalized = (x-mean)/std_dev \n",
    "\n",
    "  2. Call the normalize() function to compute the normalized value for the mentioned columns"
   ]
  },
  {
   "cell_type": "code",
   "execution_count": 7,
   "metadata": {
    "id": "cIqz0wzon3wH"
   },
   "outputs": [],
   "source": [
    "# Your code for 4.1\n",
    "def normalize(df):\n",
    "    result = df.copy()\n",
    "    for feature_name in df.columns:\n",
    "        mean_value = df[feature_name].mean()\n",
    "        print(f'mean of {feature_name} = {mean_value}')\n",
    "        std_value = df[feature_name].std()\n",
    "        print(f'standard deviation of {feature_name} = {std_value}')\n",
    "        result[feature_name] = (df[feature_name] - mean_value)/std_value\n",
    "    return result"
   ]
  },
  {
   "cell_type": "code",
   "execution_count": 8,
   "metadata": {
    "id": "SfS4aAD3yUQh"
   },
   "outputs": [
    {
     "name": "stdout",
     "output_type": "stream",
     "text": [
      "mean of latitude = 24.969030072463767\n",
      "standard deviation of latitude = 0.012410196590450128\n",
      "mean of longitude = 121.53336108695655\n",
      "standard deviation of longitude = 0.015347183004590918\n"
     ]
    },
    {
     "data": {
      "text/html": [
       "<div>\n",
       "<style scoped>\n",
       "    .dataframe tbody tr th:only-of-type {\n",
       "        vertical-align: middle;\n",
       "    }\n",
       "\n",
       "    .dataframe tbody tr th {\n",
       "        vertical-align: top;\n",
       "    }\n",
       "\n",
       "    .dataframe thead th {\n",
       "        text-align: right;\n",
       "    }\n",
       "</style>\n",
       "<table border=\"1\" class=\"dataframe\">\n",
       "  <thead>\n",
       "    <tr style=\"text-align: right;\">\n",
       "      <th></th>\n",
       "      <th>latitude</th>\n",
       "      <th>longitude</th>\n",
       "    </tr>\n",
       "  </thead>\n",
       "  <tbody>\n",
       "    <tr>\n",
       "      <th>0</th>\n",
       "      <td>1.124070</td>\n",
       "      <td>0.448220</td>\n",
       "    </tr>\n",
       "    <tr>\n",
       "      <th>1</th>\n",
       "      <td>0.911342</td>\n",
       "      <td>0.400654</td>\n",
       "    </tr>\n",
       "    <tr>\n",
       "      <th>2</th>\n",
       "      <td>1.485063</td>\n",
       "      <td>0.687352</td>\n",
       "    </tr>\n",
       "    <tr>\n",
       "      <th>3</th>\n",
       "      <td>1.485063</td>\n",
       "      <td>0.687352</td>\n",
       "    </tr>\n",
       "    <tr>\n",
       "      <th>4</th>\n",
       "      <td>0.833180</td>\n",
       "      <td>0.592220</td>\n",
       "    </tr>\n",
       "    <tr>\n",
       "      <th>...</th>\n",
       "      <td>...</td>\n",
       "      <td>...</td>\n",
       "    </tr>\n",
       "    <tr>\n",
       "      <th>409</th>\n",
       "      <td>-2.214314</td>\n",
       "      <td>-1.925506</td>\n",
       "    </tr>\n",
       "    <tr>\n",
       "      <th>410</th>\n",
       "      <td>0.427062</td>\n",
       "      <td>0.634573</td>\n",
       "    </tr>\n",
       "    <tr>\n",
       "      <th>411</th>\n",
       "      <td>0.821899</td>\n",
       "      <td>0.423460</td>\n",
       "    </tr>\n",
       "    <tr>\n",
       "      <th>412</th>\n",
       "      <td>-0.184532</td>\n",
       "      <td>0.476238</td>\n",
       "    </tr>\n",
       "    <tr>\n",
       "      <th>413</th>\n",
       "      <td>0.427062</td>\n",
       "      <td>0.634573</td>\n",
       "    </tr>\n",
       "  </tbody>\n",
       "</table>\n",
       "<p>414 rows × 2 columns</p>\n",
       "</div>"
      ],
      "text/plain": [
       "     latitude  longitude\n",
       "0    1.124070   0.448220\n",
       "1    0.911342   0.400654\n",
       "2    1.485063   0.687352\n",
       "3    1.485063   0.687352\n",
       "4    0.833180   0.592220\n",
       "..        ...        ...\n",
       "409 -2.214314  -1.925506\n",
       "410  0.427062   0.634573\n",
       "411  0.821899   0.423460\n",
       "412 -0.184532   0.476238\n",
       "413  0.427062   0.634573\n",
       "\n",
       "[414 rows x 2 columns]"
      ]
     },
     "execution_count": 8,
     "metadata": {},
     "output_type": "execute_result"
    }
   ],
   "source": [
    "# Your code for 4.2\n",
    "lf = df.loc[:,'latitude':'longitude']\n",
    "result = normalize(lf)\n",
    "result"
   ]
  },
  {
   "cell_type": "markdown",
   "metadata": {
    "id": "qYq3tk2_n2MA"
   },
   "source": [
    "### 5. Loop and List Comprehension (4 marks)\n",
    "1. Count the number of unique values in the column 'number_of_convenience_stores' using loops (1 Mark)\n",
    "2. Count using list/dict comprehension (3 Marks)"
   ]
  },
  {
   "cell_type": "code",
   "execution_count": 9,
   "metadata": {
    "id": "05xHeZx-ocdb"
   },
   "outputs": [
    {
     "data": {
      "text/plain": [
       "\"number of unique values in column 'number_of_convenience_stores' are 11 \""
      ]
     },
     "metadata": {},
     "output_type": "display_data"
    }
   ],
   "source": [
    "# Your code for 5.1\n",
    "sum1 = 0\n",
    "for i in df['number_of_convenience_stores'].unique():\n",
    "    sum1 = sum1 +1\n",
    "display(f\"number of unique values in column 'number_of_convenience_stores' are {sum1} \")"
   ]
  },
  {
   "cell_type": "code",
   "execution_count": 10,
   "metadata": {
    "id": "ZOp-F9nnoeaR"
   },
   "outputs": [
    {
     "name": "stdout",
     "output_type": "stream",
     "text": [
      "number of unique values in column 'number_of_convenience_stores' are 11 \n"
     ]
    }
   ],
   "source": [
    "# Your code for 5.2\n",
    "h = [ i for items in  df['number_of_convenience_stores'].unique()]\n",
    "print(f\"number of unique values in column 'number_of_convenience_stores' are {h.count(0.0)} \")"
   ]
  },
  {
   "cell_type": "markdown",
   "metadata": {
    "id": "dR-q8mzDoqvD"
   },
   "source": [
    "### 6. Elaborate the concepts of Vectorization and Broadcasting in your own words (5 Marks)"
   ]
  },
  {
   "cell_type": "markdown",
   "metadata": {
    "id": "BqE3dyH_o2C2"
   },
   "source": [
    "Elaborate here:\n",
    "\n",
    "* Vectorization: vectorization is to speed up the compution. when the row and colums are some or having only 1 dimensions we can directly go for vectorizartion operation\n",
    "\n",
    "* Broadcasting: it helps us do similar kind of row-wise or column-wise operation in a matrix, it is a step by step process where either dimension is 1 (by prepending the 1 ) or one of the row or column are same \n",
    "\n",
    "* Difference: difference is simple matrix substraction row and column both should match"
   ]
  },
  {
   "cell_type": "markdown",
   "metadata": {
    "id": "HdlEmh-dvlb-"
   },
   "source": [
    "#7. Linear Regression (10 marks)\n",
    "  1. Split the data into train and test set. The ratio of the split is up to you. (2 Marks)\n",
    "  2. Write a class myLinReg() to perform linear regression. You can copy this code directly from the previous assignment. (3 Marks)\n",
    "  3. Perform linear regression to predict 'house_price_of_unit_area'. Consider 'house_age', 'distance_to_the_nearest_MRT' and 'number_of_convenience_stores' as input features. Report the train and test RMSE. Choice of regularization constant (m) is upto you. (5 Marks)"
   ]
  },
  {
   "cell_type": "code",
   "execution_count": 16,
   "metadata": {
    "id": "Y0IsP7_gx3H1"
   },
   "outputs": [],
   "source": [
    "# Your code for 7.1\n",
    "X = df[['house_age', 'distance_to_the_nearest_MRT' , 'number_of_convenience_stores']]\n",
    "y = df['house_price_of_unit_area']\n",
    "y = np.array(y).reshape(-1,1)\n",
    "X_train, X_test, y_train, y_test = train_test_split(X,y,test_size=0.3, random_state=10)"
   ]
  },
  {
   "cell_type": "code",
   "execution_count": 17,
   "metadata": {
    "id": "SujoU13Ox5HY"
   },
   "outputs": [],
   "source": [
    "# Your code for 7.2\n",
    "class myLinReg():\n",
    "    def __init__(self, m, num_features):\n",
    "        self.m = m\n",
    "        self.num_features = num_features\n",
    "        self.w = np.zeros((num_features+1, 1))\n",
    "        #print(\"Shape of w : {}\".format(self.w.shape))\n",
    "        \n",
    "    def train(self, X, y, m):\n",
    "        X_bias = np.ones(shape=(np.size(X,0),1))\n",
    "        X = np.concatenate((X_bias, X),axis = 1)\n",
    "        xt_x = np.matmul(np.transpose(X),X)\n",
    "        lamI = m*np.identity(X.shape[1], dtype = float)\n",
    "        inv = np.linalg.inv(np.subtract(xt_x,lamI))\n",
    "        xt_y = np.matmul(np.transpose(X),y)\n",
    "        self.w= np.matmul(inv,xt_y)\n",
    "        \n",
    "        #print(f'w is {self.w}')\n",
    "        #print((self.w).shape)\n",
    "        #return w\n",
    "        #print(\"Shape of X : {}\".format(X.shape))\n",
    "        #Implement the rest of code to learn w using the equation given in the slide\n",
    "        \n",
    "    def predict(self, X ):\n",
    "        y_pred = np.zeros(shape=(np.size(X,0),1))\n",
    "        X_bias = np.ones(shape=(np.size(X,0),1))\n",
    "        X = np.concatenate((X_bias, X),axis = 1)\n",
    "        #print(X.shape)\n",
    "        #Implement the prediction of y_pred using the equation given in the slide\n",
    "        y_pred = np.matmul(X, self.w)\n",
    "        #print(Y_pred)\n",
    "        return y_pred\n",
    "    \n",
    "    def compute_rmse(self, X, y):\n",
    "        y_pred = self.predict(X)\n",
    "        #print()\n",
    "        rmse = (np.sqrt(mean_squared_error(y, y_pred)))\n",
    "        #print(\"Shape of y_pred : {}\".format(y_pred.shape))\n",
    "        return rmse"
   ]
  },
  {
   "cell_type": "code",
   "execution_count": 18,
   "metadata": {
    "id": "yHJh05Vgx6qo"
   },
   "outputs": [],
   "source": [
    "# Your code for 7.3\n",
    "def linRegWithMultipleFeatures(df, m):\n",
    "    X = df[['house_age', 'distance_to_the_nearest_MRT' , 'number_of_convenience_stores']]\n",
    "    y = df['house_price_of_unit_area']\n",
    "    y = np.array(y).reshape(-1,1)\n",
    "    X_train, X_test, y_train, y_test = train_test_split(X,y,test_size=0.3, random_state=10)\n",
    "    num_features = X_train.shape[1]\n",
    "    \n",
    "    model = myLinReg(m , num_features)\n",
    "    model.train(X_train, y_train,m)\n",
    "    \n",
    "    rmse_train = model.compute_rmse(X_train, y_train)\n",
    "    print(\"Train RMSE with lambda={} : {}\".format(m, rmse_train))\n",
    "    \n",
    "    rmse_test = model.compute_rmse(X_test, y_test)\n",
    "    print(\"Test RMSE with lambda={} : {}\".format(m, rmse_test))\n",
    "    y_pred = model.predict(X_test)\n",
    "    print(' ')\n",
    "\n",
    "    return rmse_test\n",
    "    \n",
    "\n",
    "\n",
    "#Return the best hyper-parameter for the single featured model\n",
    "def findBestLambda(df):\n",
    "    m_list = [ .0000001 , 0.0001 , 0.001 , 0.01 , 0.1 , 1 ]\n",
    "    #m_best = 1\n",
    "    \n",
    "    rmse_list = []\n",
    "    for m in m_list:\n",
    "        rmse = linRegWithMultipleFeatures(df, m)\n",
    "        rmse_list.append(rmse)   \n",
    "    \n",
    "    m_best = m_list[rmse_list.index(min(rmse_list))]\n",
    "    filename = 'lambdaVSrmse'\n",
    "    fig = plt.figure()\n",
    "    ax=fig.add_axes([5,5,1,1])\n",
    "    ax.scatter(m_list, rmse_list )\n",
    "    ax.set_xlabel('lambda values')\n",
    "    ax.set_ylabel('RMSE')\n",
    "    ax.set_title('lambda VS RMSE')\n",
    "    plt.show()\n",
    "    print(f'rmse best = {m_best}' )\n",
    "    return m_best\n"
   ]
  },
  {
   "cell_type": "code",
   "execution_count": 19,
   "metadata": {},
   "outputs": [
    {
     "name": "stdout",
     "output_type": "stream",
     "text": [
      "Train RMSE with lambda=1e-07 : 9.35641604881532\n",
      "Test RMSE with lambda=1e-07 : 8.920444218202807\n",
      " \n",
      "Train RMSE with lambda=0.0001 : 9.356416048926281\n",
      "Test RMSE with lambda=0.0001 : 8.920439812915022\n",
      " \n",
      "Train RMSE with lambda=0.001 : 9.356416059912167\n",
      "Test RMSE with lambda=0.001 : 8.920400136888421\n",
      " \n",
      "Train RMSE with lambda=0.01 : 9.356417159185696\n",
      "Test RMSE with lambda=0.01 : 8.920004491417428\n",
      " \n",
      "Train RMSE with lambda=0.1 : 9.35652777459463\n",
      "Test RMSE with lambda=0.1 : 8.91616039133874\n",
      " \n",
      "Train RMSE with lambda=1 : 9.36830733785927\n",
      "Test RMSE with lambda=1 : 8.889870281314494\n",
      " \n"
     ]
    },
    {
     "data": {
      "image/png": "[encoded data removed]",
      "text/plain": [
       "<Figure size 432x288 with 1 Axes>"
      ]
     },
     "metadata": {
      "needs_background": "light"
     },
     "output_type": "display_data"
    },
    {
     "name": "stdout",
     "output_type": "stream",
     "text": [
      "rmse best = 1\n"
     ]
    }
   ],
   "source": [
    "mbest = findBestLambda(df)"
   ]
  },
  {
   "cell_type": "code",
   "execution_count": 20,
   "metadata": {},
   "outputs": [
    {
     "name": "stdout",
     "output_type": "stream",
     "text": [
      "Train RMSE with lambda=1 : 9.36830733785927\n",
      "Test RMSE with lambda=1 : 8.889870281314494\n",
      " \n"
     ]
    },
    {
     "data": {
      "text/plain": [
       "8.889870281314494"
      ]
     },
     "execution_count": 20,
     "metadata": {},
     "output_type": "execute_result"
    }
   ],
   "source": [
    "linRegWithMultipleFeatures(df, m=mbest)"
   ]
  },
  {
   "cell_type": "code",
   "execution_count": null,
   "metadata": {},
   "outputs": [],
   "source": []
  }
 ],
 "metadata": {
  "colab": {
   "collapsed_sections": [],
   "name": "Intro to Programming - Exam 2.ipynb",
   "provenance": []
  },
  "kernelspec": {
   "display_name": "Python 3",
   "language": "python",
   "name": "python3"
  },
  "language_info": {
   "codemirror_mode": {
    "name": "ipython",
    "version": 3
   },
   "file_extension": ".py",
   "mimetype": "text/x-python",
   "name": "python",
   "nbconvert_exporter": "python",
   "pygments_lexer": "ipython3",
   "version": "3.8.5"
  }
 },
 "nbformat": 4,
 "nbformat_minor": 1
}
